{
 "cells": [
  {
   "cell_type": "code",
   "execution_count": 1,
   "id": "44760396-8406-43ee-a7ef-33c86884c908",
   "metadata": {},
   "outputs": [],
   "source": [
    "import pandas as pd\n",
    "import numpy as np\n",
    "import re"
   ]
  },
  {
   "cell_type": "markdown",
   "id": "e6301d76-f44f-4d48-81c9-56154d81fa4c",
   "metadata": {
    "tags": []
   },
   "source": [
    "## 1. Write a function named is_vowel. \n",
    "* It should accept a string as input and use a regular expression to determine if the passed string is a vowel. \n",
    "* While not explicity mentioned in the lesson, you can treat the result of re.search as a boolean value that indicates whether or not the regular expression matches the given string."
   ]
  },
  {
   "cell_type": "code",
   "execution_count": 18,
   "id": "d1a6991b-47a0-4f85-a2a0-8405244ab692",
   "metadata": {},
   "outputs": [],
   "source": [
    "subject = 'top'"
   ]
  },
  {
   "cell_type": "code",
   "execution_count": 19,
   "id": "792acc0f-578d-4803-9af4-964027047c14",
   "metadata": {},
   "outputs": [],
   "source": [
    "def is_vowel(subject):\n",
    "    '''\n",
    "    this function takes in a string and returns a statement if the passed string is a vowel\n",
    "    '''\n",
    "    regexp = r'^[aeiou]$'\n",
    "    \n",
    "    if re.search(regexp, subject, re.IGNORECASE):\n",
    "        print('is a vowel')\n",
    "    else:\n",
    "        print('is not a vowel')"
   ]
  },
  {
   "cell_type": "code",
   "execution_count": 20,
   "id": "49bbde35-8575-4bc5-bec7-0857d14e3084",
   "metadata": {},
   "outputs": [
    {
     "name": "stdout",
     "output_type": "stream",
     "text": [
      "is not a vowel\n"
     ]
    }
   ],
   "source": [
    "is_vowel(subject)"
   ]
  },
  {
   "cell_type": "markdown",
   "id": "dccc2851-e26b-442c-ab84-6535e6468185",
   "metadata": {},
   "source": [
    "## 2. Write a function named is_valid_username that accepts a string as input. A valid username starts with a lowercase letter, and only consists of lowercase letters, numbers, or the _ character. It should also be no longer than 32 characters. The function should return either True or False depending on whether the passed string is a valid username."
   ]
  },
  {
   "cell_type": "code",
   "execution_count": 21,
   "id": "7c726783-b78d-49d1-aa0d-129dadd5fb1c",
   "metadata": {},
   "outputs": [],
   "source": [
    "# >>> is_valid_username('aaaaaaaaaaaaaaaaaaaaaaaaaaaaaaaaa')\n",
    "# False\n",
    "# >>> is_valid_username('codeup')\n",
    "# True\n",
    "# >>> is_valid_username('Codeup')\n",
    "# False\n",
    "# >>> is_valid_username('codeup123')\n",
    "# True\n",
    "# >>> is_valid_username('1codeup')\n",
    "# False"
   ]
  },
  {
   "cell_type": "code",
   "execution_count": 51,
   "id": "d66a7045-0d12-42d6-bb61-b84791de60e0",
   "metadata": {},
   "outputs": [],
   "source": [
    "subject_list = ['aaaaaaaaaaaaaaaaaaaaaaaaaaaaaaaaa', 'codeup', 'Codeup', 'codeup123', '1codeup']"
   ]
  },
  {
   "cell_type": "code",
   "execution_count": 52,
   "id": "48aeb8e7-4594-4600-8b9a-5786d5e50955",
   "metadata": {},
   "outputs": [
    {
     "name": "stdout",
     "output_type": "stream",
     "text": [
      "False\n",
      "True\n",
      "False\n",
      "True\n",
      "False\n"
     ]
    }
   ],
   "source": [
    "for sub in subject_list:\n",
    "    if re.search(r'^[a-z][a-z0-9_]{0,31}$', sub): # /w will catch underscores and also capital letters - doesn't work here but neat\n",
    "        print('True')\n",
    "    else:\n",
    "        print('False')"
   ]
  },
  {
   "cell_type": "code",
   "execution_count": 55,
   "id": "88b33111-c88c-4bd5-b67a-6449493d4be8",
   "metadata": {},
   "outputs": [],
   "source": [
    "def is_valid_username(subject_list):\n",
    "    '''\n",
    "    this function takes in a string and returns a statement if the string is a valid input\n",
    "    '''\n",
    "    regexp = r'\\b^[a-z][a-z0-9]{0,30}$'\n",
    "    \n",
    "    for sub in subject_list:\n",
    "        if re.search(regexp, sub):\n",
    "            print('True')\n",
    "            print(sub)\n",
    "        else:\n",
    "            print('False')\n",
    "            print(sub)"
   ]
  },
  {
   "cell_type": "code",
   "execution_count": 56,
   "id": "fb357b92-17c0-4ad0-aae7-9d05520cd3f2",
   "metadata": {},
   "outputs": [
    {
     "name": "stdout",
     "output_type": "stream",
     "text": [
      "False\n",
      "aaaaaaaaaaaaaaaaaaaaaaaaaaaaaaaaa\n",
      "True\n",
      "codeup\n",
      "False\n",
      "Codeup\n",
      "True\n",
      "codeup123\n",
      "False\n",
      "1codeup\n"
     ]
    }
   ],
   "source": [
    "is_valid_username(subject_list)"
   ]
  },
  {
   "cell_type": "markdown",
   "id": "d98c6610-aa4f-4e5e-aea4-26a17e463128",
   "metadata": {},
   "source": [
    "## 3. Write a regular expression to capture phone numbers. It should match all of the following:"
   ]
  },
  {
   "cell_type": "code",
   "execution_count": 57,
   "id": "655d5946-7aaa-44cb-b0b1-ec12bf9ba564",
   "metadata": {},
   "outputs": [],
   "source": [
    "# (210) 867 5309\n",
    "# +1 210.867.5309\n",
    "# 867-5309\n",
    "# 210-867-5309"
   ]
  },
  {
   "cell_type": "code",
   "execution_count": 58,
   "id": "832d5b7f-f0f9-4dec-97a1-b6225d41078e",
   "metadata": {},
   "outputs": [],
   "source": [
    "phone_list = ['(210) 867 5309', '+1 210.867.5309', '867-5309', '210-867-5309']"
   ]
  },
  {
   "cell_type": "code",
   "execution_count": 59,
   "id": "234af468-55c5-449f-a475-cc82e29aaa50",
   "metadata": {},
   "outputs": [
    {
     "data": {
      "text/plain": [
       "<re.Match object; span=(0, 12), match='210-867-5309'>"
      ]
     },
     "execution_count": 59,
     "metadata": {},
     "output_type": "execute_result"
    }
   ],
   "source": [
    "regexp = r'\\W?[\\W?\\d\\s?0-9\\W?]\\s?\\s?\\W?\\d+\\W?\\s?\\d+\\W?\\s?\\d+'\n",
    "re.search(regexp, phone_list[3])"
   ]
  },
  {
   "cell_type": "code",
   "execution_count": 60,
   "id": "c1daa7bd-284d-4987-b37c-1b1e3ddda79e",
   "metadata": {},
   "outputs": [
    {
     "data": {
      "text/plain": [
       "['210-867-5309']"
      ]
     },
     "execution_count": 60,
     "metadata": {},
     "output_type": "execute_result"
    }
   ],
   "source": [
    "re.findall(regexp, phone_list[3])"
   ]
  },
  {
   "cell_type": "code",
   "execution_count": 62,
   "id": "071c2f68-6162-48ef-9162-f9873795a24d",
   "metadata": {},
   "outputs": [
    {
     "name": "stdout",
     "output_type": "stream",
     "text": [
      "True\n",
      "(210) 867 5309\n",
      "True\n",
      "+1 210.867.5309\n",
      "True\n",
      "867-5309\n",
      "True\n",
      "210-867-5309\n"
     ]
    }
   ],
   "source": [
    "for num in phone_list:\n",
    "    regexp = r'\\W?[\\W?\\d\\s?0-9\\W?]\\s?\\s?\\W?\\d+\\W?\\s?\\d+\\W?\\s?\\d+' #mistys = r'.+\\d+.?.\\d+.\\d+$'\n",
    "    if re.search(regexp, num):\n",
    "        print('True')\n",
    "        print(num)\n",
    "    else:\n",
    "        print('False')\n",
    "        print(num)"
   ]
  },
  {
   "cell_type": "markdown",
   "id": "2fcfd0fd-4263-4798-b749-580bb2007770",
   "metadata": {},
   "source": [
    "## 4. Use regular expressions to convert the dates below to the standardized year-month-day format."
   ]
  },
  {
   "cell_type": "code",
   "execution_count": 63,
   "id": "9fa84ab3-23f2-4c19-a58b-73e030a7d0e9",
   "metadata": {},
   "outputs": [],
   "source": [
    "# 02/04/19\n",
    "# 02/05/19\n",
    "# 02/06/19\n",
    "# 02/07/19\n",
    "# 02/08/19\n",
    "# 02/09/19\n",
    "# 02/10/19"
   ]
  },
  {
   "cell_type": "code",
   "execution_count": 64,
   "id": "626e2fe8-8df5-4d25-adce-9186fa8d584b",
   "metadata": {},
   "outputs": [],
   "source": [
    "#make into list for comprehension\n",
    "date_list = ['02/04/19',\n",
    "             '02/05/19',\n",
    "             '02/06/19',\n",
    "             '02/07/19',\n",
    "             '02/08/19',\n",
    "             '02/09/19',\n",
    "             '02/10/19']"
   ]
  },
  {
   "cell_type": "code",
   "execution_count": 65,
   "id": "f0427306-0204-4ea2-bb62-70e1662807b4",
   "metadata": {},
   "outputs": [
    {
     "data": {
      "text/plain": [
       "'2019-02-04'"
      ]
     },
     "execution_count": 65,
     "metadata": {},
     "output_type": "execute_result"
    }
   ],
   "source": [
    "#re.sub to replace\n",
    "regexp = r'(\\d{2})/(\\d{2})/(\\d{2})'\n",
    "repl = r'20\\3-\\1-\\2'\n",
    "re.sub(regexp,repl, date_list[0])"
   ]
  },
  {
   "cell_type": "code",
   "execution_count": 66,
   "id": "29a3c822-1cc3-45d6-a975-e19398a21c61",
   "metadata": {},
   "outputs": [
    {
     "name": "stdout",
     "output_type": "stream",
     "text": [
      "['2019-02-04', '2019-02-05', '2019-02-06', '2019-02-07', '2019-02-08', '2019-02-09', '2019-02-10']\n"
     ]
    }
   ],
   "source": [
    "def convert_date(date):\n",
    "    '''\n",
    "    this function converts a date from MM/DD/YY format to YYYY-MM-DD format\n",
    "    '''\n",
    "    #using regex\n",
    "    pattern = r'(\\d{2})/(\\d{2})/(\\d{2})'\n",
    "    replacement = r'20\\3-\\1-\\2'\n",
    "    return re.sub(pattern, replacement, date)\n",
    "\n",
    "converted_dates = [convert_date(date) for date in date_list]\n",
    "print(converted_dates)"
   ]
  },
  {
   "cell_type": "code",
   "execution_count": 67,
   "id": "a802315c-6c4d-4932-9fa4-893f6c23cd40",
   "metadata": {},
   "outputs": [],
   "source": [
    "#fun :)"
   ]
  },
  {
   "cell_type": "code",
   "execution_count": 71,
   "id": "d0822285-78b8-46e8-8bb6-fd15f0d43bd1",
   "metadata": {},
   "outputs": [
    {
     "name": "stdout",
     "output_type": "stream",
     "text": [
      "[('02/', '04/', '19')]\n",
      "[('02/', '05/', '19')]\n",
      "[('02/', '06/', '19')]\n",
      "[('02/', '07/', '19')]\n",
      "[('02/', '08/', '19')]\n",
      "[('02/', '09/', '19')]\n",
      "[('02/', '10/', '19')]\n"
     ]
    }
   ],
   "source": [
    "#re.findall first to test the pattern\n",
    "regexp = r'(?P<month>^\\d{2}(?:\\W))(?P<day>\\d{2}(?:\\W))(?P<year>\\d{2})'\n",
    "for date in date_list:\n",
    "    print(re.findall(regexp, date))"
   ]
  },
  {
   "cell_type": "code",
   "execution_count": 74,
   "id": "8367baac-e8ef-4ead-84a1-75c81af3c80e",
   "metadata": {},
   "outputs": [
    {
     "data": {
      "text/plain": [
       "re.compile(r'\\n        (?P<month>^\\d{2}(?:\\W))\\n        (?P<day>\\d{2}(?:\\W))\\n        (?P<year>\\d{2})\\n        ',\n",
       "re.UNICODE|re.VERBOSE)"
      ]
     },
     "execution_count": 74,
     "metadata": {},
     "output_type": "execute_result"
    }
   ],
   "source": [
    "#compile the pattern\n",
    "pattern = re.compile(r'''\n",
    "        (?P<month>^\\d{2}(?:\\W))\n",
    "        (?P<day>\\d{2}(?:\\W))\n",
    "        (?P<year>\\d{2})\n",
    "        ''', re.VERBOSE)\n",
    "pattern"
   ]
  },
  {
   "cell_type": "code",
   "execution_count": 75,
   "id": "e0c02636-1859-4022-8cf1-b55e64290a1d",
   "metadata": {},
   "outputs": [
    {
     "data": {
      "text/plain": [
       "[{'month': '02/', 'day': '04/', 'year': '19'},\n",
       " {'month': '02/', 'day': '05/', 'year': '19'},\n",
       " {'month': '02/', 'day': '06/', 'year': '19'},\n",
       " {'month': '02/', 'day': '07/', 'year': '19'},\n",
       " {'month': '02/', 'day': '08/', 'year': '19'},\n",
       " {'month': '02/', 'day': '09/', 'year': '19'},\n",
       " {'month': '02/', 'day': '10/', 'year': '19'}]"
      ]
     },
     "execution_count": 75,
     "metadata": {},
     "output_type": "execute_result"
    }
   ],
   "source": [
    "#throw into contacts list of dictionaries\n",
    "dates = [re.search(pattern,date).groupdict() for date in date_list]\n",
    "dates"
   ]
  },
  {
   "cell_type": "code",
   "execution_count": 76,
   "id": "c36eb76b-21f6-426e-99c4-5f216aa58112",
   "metadata": {},
   "outputs": [
    {
     "data": {
      "text/html": [
       "<div>\n",
       "<style scoped>\n",
       "    .dataframe tbody tr th:only-of-type {\n",
       "        vertical-align: middle;\n",
       "    }\n",
       "\n",
       "    .dataframe tbody tr th {\n",
       "        vertical-align: top;\n",
       "    }\n",
       "\n",
       "    .dataframe thead th {\n",
       "        text-align: right;\n",
       "    }\n",
       "</style>\n",
       "<table border=\"1\" class=\"dataframe\">\n",
       "  <thead>\n",
       "    <tr style=\"text-align: right;\">\n",
       "      <th></th>\n",
       "      <th>month</th>\n",
       "      <th>day</th>\n",
       "      <th>year</th>\n",
       "    </tr>\n",
       "  </thead>\n",
       "  <tbody>\n",
       "    <tr>\n",
       "      <th>0</th>\n",
       "      <td>02/</td>\n",
       "      <td>04/</td>\n",
       "      <td>19</td>\n",
       "    </tr>\n",
       "    <tr>\n",
       "      <th>1</th>\n",
       "      <td>02/</td>\n",
       "      <td>05/</td>\n",
       "      <td>19</td>\n",
       "    </tr>\n",
       "    <tr>\n",
       "      <th>2</th>\n",
       "      <td>02/</td>\n",
       "      <td>06/</td>\n",
       "      <td>19</td>\n",
       "    </tr>\n",
       "    <tr>\n",
       "      <th>3</th>\n",
       "      <td>02/</td>\n",
       "      <td>07/</td>\n",
       "      <td>19</td>\n",
       "    </tr>\n",
       "    <tr>\n",
       "      <th>4</th>\n",
       "      <td>02/</td>\n",
       "      <td>08/</td>\n",
       "      <td>19</td>\n",
       "    </tr>\n",
       "    <tr>\n",
       "      <th>5</th>\n",
       "      <td>02/</td>\n",
       "      <td>09/</td>\n",
       "      <td>19</td>\n",
       "    </tr>\n",
       "    <tr>\n",
       "      <th>6</th>\n",
       "      <td>02/</td>\n",
       "      <td>10/</td>\n",
       "      <td>19</td>\n",
       "    </tr>\n",
       "  </tbody>\n",
       "</table>\n",
       "</div>"
      ],
      "text/plain": [
       "  month  day year\n",
       "0   02/  04/   19\n",
       "1   02/  05/   19\n",
       "2   02/  06/   19\n",
       "3   02/  07/   19\n",
       "4   02/  08/   19\n",
       "5   02/  09/   19\n",
       "6   02/  10/   19"
      ]
     },
     "execution_count": 76,
     "metadata": {},
     "output_type": "execute_result"
    }
   ],
   "source": [
    "#turn into a df\n",
    "date_df = pd.DataFrame(dates)\n",
    "date_df"
   ]
  },
  {
   "cell_type": "code",
   "execution_count": 80,
   "id": "6152a63b-a324-458d-bbd5-e502f56f8cf6",
   "metadata": {},
   "outputs": [],
   "source": [
    "#replace\n",
    "date_df.month = date_df['month'].str.replace('/','')\n",
    "date_df.day = date_df['day'].str.replace('/','')\n",
    "date_df.year = '20' + date_df['year']"
   ]
  },
  {
   "cell_type": "code",
   "execution_count": 81,
   "id": "641fe696-6443-495f-8dba-11e3ea0ff60b",
   "metadata": {},
   "outputs": [
    {
     "data": {
      "text/html": [
       "<div>\n",
       "<style scoped>\n",
       "    .dataframe tbody tr th:only-of-type {\n",
       "        vertical-align: middle;\n",
       "    }\n",
       "\n",
       "    .dataframe tbody tr th {\n",
       "        vertical-align: top;\n",
       "    }\n",
       "\n",
       "    .dataframe thead th {\n",
       "        text-align: right;\n",
       "    }\n",
       "</style>\n",
       "<table border=\"1\" class=\"dataframe\">\n",
       "  <thead>\n",
       "    <tr style=\"text-align: right;\">\n",
       "      <th></th>\n",
       "      <th>month</th>\n",
       "      <th>day</th>\n",
       "      <th>year</th>\n",
       "    </tr>\n",
       "  </thead>\n",
       "  <tbody>\n",
       "    <tr>\n",
       "      <th>0</th>\n",
       "      <td>02</td>\n",
       "      <td>04</td>\n",
       "      <td>2019</td>\n",
       "    </tr>\n",
       "    <tr>\n",
       "      <th>1</th>\n",
       "      <td>02</td>\n",
       "      <td>05</td>\n",
       "      <td>2019</td>\n",
       "    </tr>\n",
       "    <tr>\n",
       "      <th>2</th>\n",
       "      <td>02</td>\n",
       "      <td>06</td>\n",
       "      <td>2019</td>\n",
       "    </tr>\n",
       "    <tr>\n",
       "      <th>3</th>\n",
       "      <td>02</td>\n",
       "      <td>07</td>\n",
       "      <td>2019</td>\n",
       "    </tr>\n",
       "    <tr>\n",
       "      <th>4</th>\n",
       "      <td>02</td>\n",
       "      <td>08</td>\n",
       "      <td>2019</td>\n",
       "    </tr>\n",
       "    <tr>\n",
       "      <th>5</th>\n",
       "      <td>02</td>\n",
       "      <td>09</td>\n",
       "      <td>2019</td>\n",
       "    </tr>\n",
       "    <tr>\n",
       "      <th>6</th>\n",
       "      <td>02</td>\n",
       "      <td>10</td>\n",
       "      <td>2019</td>\n",
       "    </tr>\n",
       "  </tbody>\n",
       "</table>\n",
       "</div>"
      ],
      "text/plain": [
       "  month day  year\n",
       "0    02  04  2019\n",
       "1    02  05  2019\n",
       "2    02  06  2019\n",
       "3    02  07  2019\n",
       "4    02  08  2019\n",
       "5    02  09  2019\n",
       "6    02  10  2019"
      ]
     },
     "execution_count": 81,
     "metadata": {},
     "output_type": "execute_result"
    }
   ],
   "source": [
    "date_df"
   ]
  },
  {
   "cell_type": "markdown",
   "id": "d3289182-a92d-4d75-832e-3e16c60cf089",
   "metadata": {},
   "source": [
    "## 5. Write a regex to extract the various parts of these logfile lines:\n",
    "\n"
   ]
  },
  {
   "cell_type": "code",
   "execution_count": 82,
   "id": "c68b1b6b-e557-4529-8bcb-11589d99f38e",
   "metadata": {},
   "outputs": [],
   "source": [
    "# GET /api/v1/sales?page=86 [16/Apr/2019:193452+0000] HTTP/1.1 {200} 510348 \"python-requests/2.21.0\" 97.105.19.58\n",
    "## POST /users_accounts/file-upload [16/Apr/2019:193452+0000] HTTP/1.1 {201} 42 \"User-Agent: Mozilla/5.0 (X11; Fedora; Fedora; \n",
    "## Linux x86_64) AppleWebKit/537.36 (KHTML, like Gecko) Chrome/73.0.3683.86 Safari/537.36\" 97.105.19.58\n",
    "# GET /api/v1/items?page=3 [16/Apr/2019:193453+0000] HTTP/1.1 {429} 3561 \"python-requests/2.21.0\" 97.105.19.58"
   ]
  },
  {
   "cell_type": "code",
   "execution_count": 83,
   "id": "9e0c858b-667e-4f6a-a293-eb726591c5a6",
   "metadata": {},
   "outputs": [],
   "source": [
    "#make into list for accessibility\n",
    "log_list = ['GET /api/v1/sales?page=86 [16/Apr/2019:193452+0000] HTTP/1.1 {200} 510348 \"python-requests/2.21.0\" 97.105.19.58',\\\n",
    "            'POST /users_accounts/file-upload [16/Apr/2019:193452+0000] HTTP/1.1 {201} 42 \"User-Agent: Mozilla/5.0 (X11; Fedora; Fedora;Linux x86_64) AppleWebKit/537.36 (KHTML, like Gecko) Chrome/73.0.3683.86 Safari/537.36\" 97.105.19.58',\\\n",
    "            'GET /api/v1/items?page=3 [16/Apr/2019:193453+0000] HTTP/1.1 {429} 3561 \"python-requests/2.21.0\" 97.105.19.58']"
   ]
  },
  {
   "cell_type": "code",
   "execution_count": 84,
   "id": "43572200-0a85-4213-87bb-fa4bf1b2418a",
   "metadata": {},
   "outputs": [
    {
     "name": "stdout",
     "output_type": "stream",
     "text": [
      "[('GET', '/api/v1/sales?page=86', '[16/Apr/2019:193452+0000]', 'HTTP/1.1', '{200}', '510348', '\"python-requests/2.21.0\"', '97.105.19.58')]\n",
      "[('POST', '/users_accounts/file-upload', '[16/Apr/2019:193452+0000]', 'HTTP/1.1', '{201}', '42', '\"User-Agent: Mozilla/5.0 (X11; Fedora; Fedora;Linux x86_64) AppleWebKit/537.36 (KHTML, like Gecko) Chrome/73.0.3683.86 Safari/537.36\"', '97.105.19.58')]\n",
      "[('GET', '/api/v1/items?page=3', '[16/Apr/2019:193453+0000]', 'HTTP/1.1', '{429}', '3561', '\"python-requests/2.21.0\"', '97.105.19.58')]\n"
     ]
    }
   ],
   "source": [
    "#re.findall find all the pattern components: ORIGINAL _ I DID THIS POORLY. FIXED BELOW\n",
    "regexp = r'(?P<request>^[A-Z]{3,4})\\s(?P<site>\\W.+)\\s(?P<date>.+)\\s(?P<protocol>HTTP\\W[0-9]\\W[0-9])\\s(?P<status_code>{.+\\})\\s(?P<unknown>\\d+)\\s(?P<url_code>\".+\")\\s(?P<ip>\\d.+)'\n",
    "for logf in log_list:\n",
    "    print(re.findall(regexp, logf))"
   ]
  },
  {
   "cell_type": "code",
   "execution_count": 102,
   "id": "46c12c2d-fd82-41da-bff1-efea10fa22a2",
   "metadata": {},
   "outputs": [],
   "source": [
    "# #compose the pattern pieces - what I did first\n",
    "# pattern = re.compile(r'''\n",
    "#         (?P<request>^[A-Z]{3,4})\\s\n",
    "#         (?P<site>\\W.+)\\s\n",
    "#         (?P<date>.+)\\s\n",
    "#         (?P<protocol>HTTP\\W[0-9]\\W[0-9])/s\n",
    "#         (?P<status_code>{.+\\})\\s\n",
    "#         (?P<unknown>\\d+)\\s          \n",
    "#         (?P<url_code>\".+\")\\s\n",
    "#         (?P<ip>\\d.+)''', re.VERBOSE)\n",
    "# pattern\n",
    "\n",
    "#compose the pattern pieces\n",
    "pattern = re.compile(r'''(?P<request>^[A-Z]{3,4})\\s\n",
    "                        (?P<site>\\S+)\\s\n",
    "                        (?P<date>\\[.+?\\])\\s\n",
    "                        (?P<protocol>HTTP/\\d\\.\\d)\\s\n",
    "                        (?P<status_code>\\{\\d+\\})\\s\n",
    "                        (?P<unknown>\\d+)\\s\n",
    "                        (?P<url_code>\".+\")\\s\n",
    "                        (?P<ip>\\d+\\.\\d+\\.\\d+\\.\\d+)''', re.VERBOSE)"
   ]
  },
  {
   "cell_type": "code",
   "execution_count": 87,
   "id": "0f94f7ff-5952-4253-b8f9-0b046f2f071f",
   "metadata": {},
   "outputs": [
    {
     "name": "stdout",
     "output_type": "stream",
     "text": [
      "[{'request': 'GET', 'site': '/api/v1/sales?page=86', 'date': '[16/Apr/2019:193452+0000]', 'protocol': 'HTTP/1.1', 'status_code': '{200}', 'unknown': '510348', 'url_code': '\"python-requests/2.21.0\"', 'ip': '97.105.19.58'}, {'request': 'POST', 'site': '/users_accounts/file-upload', 'date': '[16/Apr/2019:193452+0000]', 'protocol': 'HTTP/1.1', 'status_code': '{201}', 'unknown': '42', 'url_code': '\"User-Agent: Mozilla/5.0 (X11; Fedora; Fedora;Linux x86_64) AppleWebKit/537.36 (KHTML, like Gecko) Chrome/73.0.3683.86 Safari/537.36\"', 'ip': '97.105.19.58'}, {'request': 'GET', 'site': '/api/v1/items?page=3', 'date': '[16/Apr/2019:193453+0000]', 'protocol': 'HTTP/1.1', 'status_code': '{429}', 'unknown': '3561', 'url_code': '\"python-requests/2.21.0\"', 'ip': '97.105.19.58'}]\n"
     ]
    }
   ],
   "source": [
    "#check if any pattern matched\n",
    "logs = []\n",
    "for logf in log_list:\n",
    "    match = re.search(pattern, logf)\n",
    "    if match:\n",
    "        logs.append(match.groupdict())\n",
    "\n",
    "print(logs)"
   ]
  },
  {
   "cell_type": "code",
   "execution_count": 88,
   "id": "5351f9df-2476-4600-b755-a5f943140bc2",
   "metadata": {},
   "outputs": [
    {
     "data": {
      "text/plain": [
       "[{'request': 'GET',\n",
       "  'site': '/api/v1/sales?page=86',\n",
       "  'date': '[16/Apr/2019:193452+0000]',\n",
       "  'protocol': 'HTTP/1.1',\n",
       "  'status_code': '{200}',\n",
       "  'unknown': '510348',\n",
       "  'url_code': '\"python-requests/2.21.0\"',\n",
       "  'ip': '97.105.19.58'},\n",
       " {'request': 'POST',\n",
       "  'site': '/users_accounts/file-upload',\n",
       "  'date': '[16/Apr/2019:193452+0000]',\n",
       "  'protocol': 'HTTP/1.1',\n",
       "  'status_code': '{201}',\n",
       "  'unknown': '42',\n",
       "  'url_code': '\"User-Agent: Mozilla/5.0 (X11; Fedora; Fedora;Linux x86_64) AppleWebKit/537.36 (KHTML, like Gecko) Chrome/73.0.3683.86 Safari/537.36\"',\n",
       "  'ip': '97.105.19.58'},\n",
       " {'request': 'GET',\n",
       "  'site': '/api/v1/items?page=3',\n",
       "  'date': '[16/Apr/2019:193453+0000]',\n",
       "  'protocol': 'HTTP/1.1',\n",
       "  'status_code': '{429}',\n",
       "  'unknown': '3561',\n",
       "  'url_code': '\"python-requests/2.21.0\"',\n",
       "  'ip': '97.105.19.58'}]"
      ]
     },
     "execution_count": 88,
     "metadata": {},
     "output_type": "execute_result"
    }
   ],
   "source": [
    "#throw into list of dictionaries\n",
    "logs = [re.search(pattern,logf).groupdict() for logf in log_list]\n",
    "logs"
   ]
  },
  {
   "cell_type": "code",
   "execution_count": 89,
   "id": "a85ecf70-1067-464c-a3bb-26abae866d83",
   "metadata": {},
   "outputs": [
    {
     "data": {
      "text/html": [
       "<div>\n",
       "<style scoped>\n",
       "    .dataframe tbody tr th:only-of-type {\n",
       "        vertical-align: middle;\n",
       "    }\n",
       "\n",
       "    .dataframe tbody tr th {\n",
       "        vertical-align: top;\n",
       "    }\n",
       "\n",
       "    .dataframe thead th {\n",
       "        text-align: right;\n",
       "    }\n",
       "</style>\n",
       "<table border=\"1\" class=\"dataframe\">\n",
       "  <thead>\n",
       "    <tr style=\"text-align: right;\">\n",
       "      <th></th>\n",
       "      <th>request</th>\n",
       "      <th>site</th>\n",
       "      <th>date</th>\n",
       "      <th>protocol</th>\n",
       "      <th>status_code</th>\n",
       "      <th>unknown</th>\n",
       "      <th>url_code</th>\n",
       "      <th>ip</th>\n",
       "    </tr>\n",
       "  </thead>\n",
       "  <tbody>\n",
       "    <tr>\n",
       "      <th>0</th>\n",
       "      <td>GET</td>\n",
       "      <td>/api/v1/sales?page=86</td>\n",
       "      <td>[16/Apr/2019:193452+0000]</td>\n",
       "      <td>HTTP/1.1</td>\n",
       "      <td>{200}</td>\n",
       "      <td>510348</td>\n",
       "      <td>\"python-requests/2.21.0\"</td>\n",
       "      <td>97.105.19.58</td>\n",
       "    </tr>\n",
       "    <tr>\n",
       "      <th>1</th>\n",
       "      <td>POST</td>\n",
       "      <td>/users_accounts/file-upload</td>\n",
       "      <td>[16/Apr/2019:193452+0000]</td>\n",
       "      <td>HTTP/1.1</td>\n",
       "      <td>{201}</td>\n",
       "      <td>42</td>\n",
       "      <td>\"User-Agent: Mozilla/5.0 (X11; Fedora; Fedora;...</td>\n",
       "      <td>97.105.19.58</td>\n",
       "    </tr>\n",
       "    <tr>\n",
       "      <th>2</th>\n",
       "      <td>GET</td>\n",
       "      <td>/api/v1/items?page=3</td>\n",
       "      <td>[16/Apr/2019:193453+0000]</td>\n",
       "      <td>HTTP/1.1</td>\n",
       "      <td>{429}</td>\n",
       "      <td>3561</td>\n",
       "      <td>\"python-requests/2.21.0\"</td>\n",
       "      <td>97.105.19.58</td>\n",
       "    </tr>\n",
       "  </tbody>\n",
       "</table>\n",
       "</div>"
      ],
      "text/plain": [
       "  request                         site                       date  protocol  \\\n",
       "0     GET        /api/v1/sales?page=86  [16/Apr/2019:193452+0000]  HTTP/1.1   \n",
       "1    POST  /users_accounts/file-upload  [16/Apr/2019:193452+0000]  HTTP/1.1   \n",
       "2     GET         /api/v1/items?page=3  [16/Apr/2019:193453+0000]  HTTP/1.1   \n",
       "\n",
       "  status_code unknown                                           url_code  \\\n",
       "0       {200}  510348                           \"python-requests/2.21.0\"   \n",
       "1       {201}      42  \"User-Agent: Mozilla/5.0 (X11; Fedora; Fedora;...   \n",
       "2       {429}    3561                           \"python-requests/2.21.0\"   \n",
       "\n",
       "             ip  \n",
       "0  97.105.19.58  \n",
       "1  97.105.19.58  \n",
       "2  97.105.19.58  "
      ]
     },
     "execution_count": 89,
     "metadata": {},
     "output_type": "execute_result"
    }
   ],
   "source": [
    "#turn to a df\n",
    "log_df = pd.DataFrame(logs)\n",
    "log_df"
   ]
  },
  {
   "cell_type": "code",
   "execution_count": 90,
   "id": "b9107f3b-4d38-450e-9516-c2e04adb6003",
   "metadata": {},
   "outputs": [
    {
     "data": {
      "text/plain": [
       "0    [16/Apr/2019:193452+0000]\n",
       "1    [16/Apr/2019:193452+0000]\n",
       "2    [16/Apr/2019:193453+0000]\n",
       "Name: date, dtype: object"
      ]
     },
     "execution_count": 90,
     "metadata": {},
     "output_type": "execute_result"
    }
   ],
   "source": [
    "#change date column because it's terrible and messy - good practice\n",
    "import datetime\n",
    "log_df.date"
   ]
  },
  {
   "cell_type": "code",
   "execution_count": 91,
   "id": "5c3f6377-7b61-40c3-89ce-c334ceef6256",
   "metadata": {},
   "outputs": [],
   "source": [
    "log_df.date = pd.to_datetime(log_df['date'], format='[%d/%b/%Y:%H%M%S%z]')"
   ]
  },
  {
   "cell_type": "code",
   "execution_count": 101,
   "id": "764109ea-71c3-419c-904b-c7a0b6c38144",
   "metadata": {},
   "outputs": [
    {
     "data": {
      "text/plain": [
       "0   2019-04-16 19:34:52+00:00\n",
       "1   2019-04-16 19:34:52+00:00\n",
       "2   2019-04-16 19:34:53+00:00\n",
       "Name: date, dtype: datetime64[ns, UTC]"
      ]
     },
     "execution_count": 101,
     "metadata": {},
     "output_type": "execute_result"
    }
   ],
   "source": [
    "log_df.date"
   ]
  },
  {
   "cell_type": "markdown",
   "id": "cb8a8641-d766-437b-854f-a303deb37415",
   "metadata": {},
   "source": [
    "## Bonus. You can find a list of words on your mac at /usr/share/dict/words. Use this file to answer the following questions:"
   ]
  },
  {
   "cell_type": "code",
   "execution_count": null,
   "id": "f6b64a49-9634-4e9d-8059-af98a853addb",
   "metadata": {},
   "outputs": [],
   "source": [
    "# - How many words have at least 3 vowels?\n",
    "# - How many words have at least 3 vowels in a row?\n",
    "# - How many words have at least 4 consonants in a row?\n",
    "# - How many words start and end with the same letter?\n",
    "# - How many words start and end with a vowel?\n",
    "# - How many words contain the same letter 3 times in a row?\n",
    "# - What other interesting patterns in words can you find?"
   ]
  },
  {
   "cell_type": "code",
   "execution_count": 105,
   "id": "62f63bfb-9cbf-4aad-9cc8-90ecaf7c833a",
   "metadata": {},
   "outputs": [
    {
     "ename": "FileNotFoundError",
     "evalue": "[Errno 2] No such file or directory: 'usr/share/dict/words'",
     "output_type": "error",
     "traceback": [
      "\u001b[0;31m---------------------------------------------------------------------------\u001b[0m",
      "\u001b[0;31mFileNotFoundError\u001b[0m                         Traceback (most recent call last)",
      "\u001b[0;32m/var/folders/26/y7jmy96d6tx38pgw7pxw_dpm0000gn/T/ipykernel_88980/2720565327.py\u001b[0m in \u001b[0;36m<module>\u001b[0;34m\u001b[0m\n\u001b[0;32m----> 1\u001b[0;31m \u001b[0;32mwith\u001b[0m \u001b[0mopen\u001b[0m\u001b[0;34m(\u001b[0m\u001b[0;34m'usr/share/dict/words'\u001b[0m\u001b[0;34m,\u001b[0m \u001b[0;34m'r'\u001b[0m\u001b[0;34m)\u001b[0m \u001b[0;32mas\u001b[0m \u001b[0mf\u001b[0m\u001b[0;34m:\u001b[0m\u001b[0;34m\u001b[0m\u001b[0;34m\u001b[0m\u001b[0m\n\u001b[0m\u001b[1;32m      2\u001b[0m     \u001b[0mdata\u001b[0m \u001b[0;34m=\u001b[0m \u001b[0mf\u001b[0m\u001b[0;34m.\u001b[0m\u001b[0mread\u001b[0m\u001b[0;34m(\u001b[0m\u001b[0;34m)\u001b[0m\u001b[0;34m\u001b[0m\u001b[0;34m\u001b[0m\u001b[0m\n\u001b[1;32m      3\u001b[0m \u001b[0mdata\u001b[0m \u001b[0;34m=\u001b[0m \u001b[0mdata\u001b[0m\u001b[0;34m.\u001b[0m\u001b[0msplit\u001b[0m\u001b[0;34m(\u001b[0m\u001b[0;34m'\\n'\u001b[0m\u001b[0;34m)\u001b[0m\u001b[0;34m\u001b[0m\u001b[0;34m\u001b[0m\u001b[0m\n",
      "\u001b[0;31mFileNotFoundError\u001b[0m: [Errno 2] No such file or directory: 'usr/share/dict/words'"
     ]
    }
   ],
   "source": [
    "with open('usr/share/dict/words', 'r') as f:\n",
    "    data = f.read()\n",
    "data = data.split('\\n')"
   ]
  },
  {
   "cell_type": "code",
   "execution_count": null,
   "id": "79606321-647e-49fb-aebd-114e6801b8d9",
   "metadata": {},
   "outputs": [],
   "source": []
  },
  {
   "cell_type": "code",
   "execution_count": null,
   "id": "555fafcc-23d3-4c4f-ac90-1ef9904318ec",
   "metadata": {},
   "outputs": [],
   "source": []
  }
 ],
 "metadata": {
  "kernelspec": {
   "display_name": "Python 3 (ipykernel)",
   "language": "python",
   "name": "python3"
  },
  "language_info": {
   "codemirror_mode": {
    "name": "ipython",
    "version": 3
   },
   "file_extension": ".py",
   "mimetype": "text/x-python",
   "name": "python",
   "nbconvert_exporter": "python",
   "pygments_lexer": "ipython3",
   "version": "3.9.13"
  }
 },
 "nbformat": 4,
 "nbformat_minor": 5
}
