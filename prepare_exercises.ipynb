{
 "cells": [
  {
   "cell_type": "code",
   "execution_count": 1,
   "id": "34dd18ca-2382-459a-8ee3-fba64c7ba8bb",
   "metadata": {
    "scrolled": true,
    "tags": []
   },
   "outputs": [],
   "source": [
    "import unicodedata\n",
    "import re\n",
    "import json\n",
    "import os\n",
    "\n",
    "import nltk\n",
    "from nltk.tokenize.toktok import ToktokTokenizer\n",
    "from nltk.corpus import stopwords\n",
    "# nltk.download('all')\n",
    "# nltk.download('stopwords')\n",
    "\n",
    "import pandas as pd\n",
    "import numpy as np\n",
    "\n",
    "import wrangle as wr"
   ]
  },
  {
   "cell_type": "markdown",
   "id": "480d6891-3f24-4c51-a37a-8bf791f9ef48",
   "metadata": {},
   "source": [
    "Exercises\n",
    "* The end result of this exercise should be a file named prepare.py that defines the requested functions.\n",
    "\n",
    "In this exercise we will be defining some functions to prepare textual data. These functions should apply equally well to both the codeup blog articles and the news articles that were previously acquired.\n",
    "\n",
    "* Define a function named basic_clean. It should take in a string and apply some basic text cleaning to it:\n",
    "    * Lowercase everything\n",
    "    * Normalize unicode characters\n",
    "    * Replace anything that is not a letter, number, whitespace or a single quote.\n",
    "    \n",
    "* Define a function named tokenize. It should take in a string and tokenize all the words in the string.\n",
    "\n",
    "* Define a function named stem. It should accept some text and return the text after applying stemming to all the words.\n",
    "\n",
    "* Define a function named lemmatize. It should accept some text and return the text after applying lemmatization to each word.\n",
    "\n",
    "* Define a function named remove_stopwords. It should accept some text and return the text after removing all the stopwords.\n",
    "    * This function should define two optional parameters, extra_words and exclude_words. These parameters should define any additional stop words to include, and any words that we don't want to remove.\n",
    "\n",
    "* Use your data from the acquire to produce a dataframe of the news articles. Name the dataframe news_df.\n",
    "\n",
    "* Make another dataframe for the Codeup blog posts. Name the dataframe codeup_df.\n",
    "\n",
    "* For each dataframe, produce the following columns:\n",
    "    * title to hold the title\n",
    "    * original to hold the original article/post content\n",
    "    * clean to hold the normalized and tokenized original with the stopwords removed.\n",
    "    * stemmed to hold the stemmed version of the cleaned data.\n",
    "    * lemmatized to hold the lemmatized version of the cleaned data.\n",
    "\n",
    "Ask yourself:\n",
    "* If your corpus is 493KB, would you prefer to use stemmed or lemmatized text?\n",
    "    * lemmatize\n",
    "* If your corpus is 25MB, would you prefer to use stemmed or lemmatized text?\n",
    "    * lemmatize or stem\n",
    "* If your corpus is 200TB of text and you're charged by the megabyte for your hosted computational resources, would you prefer to use stemmed or lemmatized text?\n",
    "    * stemmed! I'm not made of money lol\n"
   ]
  },
  {
   "cell_type": "code",
   "execution_count": 70,
   "id": "dd655a3f-c79e-4839-b59e-9f2d0411ffdb",
   "metadata": {
    "scrolled": true,
    "tags": []
   },
   "outputs": [
    {
     "data": {
      "text/plain": [
       "[{'title': 'Spotlight on APIDA Voices: Celebrating Heritage and Inspiring Change ft. Arbeena Thapa',\n",
       "  'link': 'https://codeup.com/featured/apida-heritage-month/',\n",
       "  'date_published': 'May 24, 2023',\n",
       "  'content': ' May is traditionally known as Asian American and Pacific Islander (AAPI) Heritage Month. This month we celebrate the history and contributions made possible by our AAPI friends, family, and community. We also examine our level of support and seek opportunities to better understand the AAPI community.  In an effort to address real concerns and experiences, we sat down with Arbeena Thapa, one of Codeup’s Financial Aid and Enrollment Managers. Arbeena identifies as Nepali American and Desi. Arbeena’s parents immigrated to Texas in 1988 for better employment and educational opportunities. Arbeena’s older sister was five when they made the move to the US. Arbeena was born later, becoming the first in her family to be a US citizen. At Codeup we take our efforts at inclusivity very seriously. After speaking with Arbeena, we were taught that the term AAPI excludes Desi-American individuals. Hence, we will now use the term Asian Pacific Islander Desi American (APIDA). Here is how the rest of our conversation with Arbeena went! How do you celebrate or connect with your heritage and cultural traditions? “I celebrate Nepal’s version of Christmas or Dashain. This is a nine-day celebration also known as Dussehra. I grew up as Hindu and I identify as Hindu, this is a very large part of my heritage. “ “Other ways I connect with my culture include sharing food! Momos are South Asian Dumplings and they’re my favorite to make and share.” “On my Asian American side, I am an advocate of immigrant justice and erasure within APIDA social or political movements. I participate in events to embrace my identity such as immigrant justice advocacy because I come from a mixed-status family. I’ve always been in a community with undocumented Asian immigrants. .” What are some of the challenges you have faced as an APIDA individual, personally or professionally? “I often struggle with being gendered as compliant or a pushover. Professionally, I am often stereotyped as meek, so I’ve been overlooked for leadership roles. We are seen as perpetually foreign; people tend to other us in that way, yet put us on a pedestal for what a model minority looks like. This has made me hesitant to share my heritage in the past because these assumptions get mapped onto me. ” Can you describe some common barriers of entry that APIDA individuals, specifically women may face when trying to enter or advance in the workplace? “Being overlooked for leadership. In the past, I have not been viewed as a leader. People sometimes have preconceived stereotypes of Asian women not being able to be bold, or being vocal can be mistaken for being too emotional. “ How do you believe microaggressions impact APIDA individuals in the workplace? Can you provide examples of such microaggressions? “Erasure is big. To me, only saying ‘Merry Christmas’ isn’t inclusive to other religions. People are often resistant to saying ‘Happy Holidays,’ but saying Merry Christmas excludes, and does not appreciate my heritage. “ “Often microaggressions are not micro at all. They typically are not aggressive racialized violence, but the term ‘micro’ minimizes impact.” “Some that I’ve heard are ‘What kind of Asian are you?’ or ‘Where are you from?’ This automatically makes me the ‘other’ and not seen as American. Even within the APIDA community, South Asians are overlooked as “Asian”.” How important is representation, specifically APIDA representation, in organizational leadership positions? “I want to say that it is important to have someone who looks like you in leadership roles, and it is, but those leaders may not share the same beliefs as you. Certain privileges such as wealth, resources, or lack of interaction with lower-socioeconomic-status Asian Americans may cause a difference in community politics. I do not think the bamboo ceiling is acceptable, but the company you work for plays a big part in your politics and belief alignment.” How do you feel about code-switching, and have you ever felt it necessary to code-switch? “I like sharing South Asian terms or connecting with others that have similar heritage and culture. A workplace that is welcoming to going into this sort of breakout is refreshing and makes space for us. However, having to code-switch could also mean a workplace that is not conducive and welcoming of other cultures. “ Finally, in your opinion, what long-term strategies can create lasting change in the workplace and ensure support, equality, and inclusion for APIDA individuals? “Prior to a career in financial aid, I did a lot of research related to the post-9/11 immigration of the South Asian diaspora. This background made me heavily rely on grassroots organizing. Hire the people that want to innovate, hire the changemakers, hire the button-pushers. Reduce reliance on whiteness as change. This will become natural for the organization and become organizational change. Change comes from us on the ground.” A huge thank you to Arbeena Thapa for sharing her experiences, and being vulnerable with us. Your words were inspiring and the opportunity to understand your perspective more has been valuable. We hope we can become better support for the APIDA community as we learn and grow on our journey of cultivating inclusive growth. '},\n",
       " {'title': 'Women in tech: Panelist Spotlight – Magdalena Rahn',\n",
       "  'link': 'https://codeup.com/featured/women-in-tech-panelist-spotlight/',\n",
       "  'date_published': 'Mar 28, 2023',\n",
       "  'content': ' Women in tech: Panelist Spotlight – Magdalena Rahn Codeup is hosting a Women in Tech Panel in honor of Women’s History Month on March 29th, 2023! To further celebrate, we’d like to spotlight each of our panelists leading up to the discussion to learn a bit about their respective experiences as women in the tech industry!  Meet Magdalena! Magdalena Rahn is a current Codeup student in a Data Science cohort in San Antonio, Texas. She has a professional background in cross-cultural communications, international business development, the wine industry and journalism. After serving in the US Navy, she decided to complement her professional skill set by attending the Data Science program at Codeup; she is set to graduate in March 2023. Magdalena is fluent in French, Bulgarian, Chinese-Mandarin, Spanish and Italian. We asked Magdalena how Codeup impacted her career, and she replied “Codeup has provided a solid foundation in analytical processes, programming and data science methods, and it’s been an encouragement to have such supportive instructors and wonderful classmates.” Don’t forget to tune in on March 29th to sit in on an insightful conversation with Magdalena. '},\n",
       " {'title': 'Women in tech: Panelist Spotlight – Rachel Robbins-Mayhill',\n",
       "  'link': 'https://codeup.com/featured/women-in-tech-rachel-robbins-mayhill/',\n",
       "  'date_published': 'Mar 20, 2023',\n",
       "  'content': ' Women in tech: Panelist Spotlight – Rachel Robbins-Mayhill Codeup is hosting a Women in Tech Panel in honor of Women’s History Month on March 29th, 2023! To further celebrate, we’d like to spotlight each of our panelists leading up to the discussion to learn a bit about their respective experiences as women in the tech industry! Meet Rachel!  Rachel Robbins-Mayhill is a Decision Science Analyst I in San Antonio, Texas. Rachel has had a varied career that includes counseling, teaching, training, community development, and military operations. Her focus has always been on assessing needs, identifying solutions, and educating individuals and groups on aligning needs and solutions in different contexts. Rachel’s passion for data science stems from her belief that data is a powerful tool for communicating patterns that can lead to hope and growth in the future. In June 2022, Rachel graduated from Codeup’s Innis cohort, where she honed her skills in data science. Shortly after, she started working as a Data Science Technical Writer with Apex Systems as a Contractor for USAA in July 2022. Her unconventional role allowed her to understand where her skills could be best utilized to support USAA in a non-contract role. Rachel recently joined USAA’s Data Science Delivery team as a Decision Science Analyst I in February 2023. The team is focused on delivering machine learning models for fraud prevention, and Rachel’s particular role centers around providing strategic process solutions for the team in collaboration with Operational and Model Risk components. In addition to her career, Rachel is currently pursuing a master’s degree in Applied Data Science from Syracuse University, further expanding her knowledge and skills in the field. Rachel is passionate about collaborating with individuals who share her belief in the potential of others and strive to achieve growth through logical, informed action. She welcomes LinkedIn connections and is excited about supporting the network of CodeUp alumni! We asked Rachel how Codeup impacted her career, and she replied “Codeup delivered a comprehensive education in all facets of the data science pipeline, laying a strong foundation for me to build upon. Through repeated hands-on practice, I developed a reliable process that was immediately applicable in my job. Collaborative group projects were instrumental in helping me hone my skills in project management, allowing me to navigate complex data science projects with comfortability. Thanks to this invaluable experience, I was able to make significant strides in my career within just six months of graduating from Codeup.” Don’t forget to tune in on March 29th to sit in on an insightful conversation. '},\n",
       " {'title': 'Women in Tech: Panelist Spotlight – Sarah Mellor',\n",
       "  'link': 'https://codeup.com/codeup-news/women-in-tech-panelist-spotlight-sarah-mellor/',\n",
       "  'date_published': 'Mar 13, 2023',\n",
       "  'content': ' Women in tech: Panelist Spotlight – Sarah Mellor\\xa0 Codeup is hosting a Women in Tech Panel in honor of Women’s History Month on March 29th, 2023! To further celebrate, we’d like to spotlight each of our panelists leading up to the discussion to learn a bit about their respective experiences as women in the tech industry! Meet Sarah! Sarah Mellor currently works as the Director of People Operations. She joined Codeup four and a half years ago as an Admissions Manager. She went on to build out and lead the Marketing and Admissions team, while picking up People Ops tasks and projects here and there until moving over to lead the People Ops team two years ago. Prior to Codeup, she worked at education-focused non-profits in Washington, DC and Boulder, Colorado. She graduated from Wake Forest University. We asked Sarah how Codeup has impacted her career, and her response was “I have absolutely loved having the privilege to grow alongside Codeup. In my time here across multiple different roles and departments, I’ve seen a lot of change. The consistent things have always been the high quality of passionate and hardworking people I get to work with; the impactful mission we get to work on; and the inspiring students who trust us with their career change.” Don’t forget to tune in on March 29th to sit in on an insightful conversation. '},\n",
       " {'title': 'Women in Tech: Panelist Spotlight – Madeleine Capper',\n",
       "  'link': 'https://codeup.com/events/women-in-tech-madeleine/',\n",
       "  'date_published': 'Mar 6, 2023',\n",
       "  'content': ' Women in tech: Panelist Spotlight – Madeleine Capper Codeup is hosting a Women in Tech Panel in honor of Women’s History Month on March 29th, 2023! To further celebrate, we’d like to spotlight each of our panelists leading up to the discussion to learn a bit about their respective experiences as women in the tech industry! Meet Madeleine! Madeleine Capper is a Data Scientist in San Antonio, Texas. A long-standing San Antonio resident, she studied mathematics at the University of Texas San Antonio and has worked as a Data Scientist for Booz Allen Hamilton. Madeleine currently teaches Data Science at Codeup, where she works daily with burgeoning data professionals to help them actualize their career aspirations through technical education. Madeleine attended Codeup as a student in early 2019 as a pupil in the very first Codeup Data Science cohort. The program proved immediately effective and she was the first student to obtain a data career out of the program. After working at Booz Allen Hamilton, Madeleine’s passion for education in conjunction with her appreciation for Codeup’s capacity for transformative life change brought her back to the institution in an instructional capacity, where she has been teaching for two years. Don’t forget to tune in on March 29th to sit in on an insightful conversation. '},\n",
       " {'title': 'Black Excellence in Tech: Panelist Spotlight – Wilmarie De La Cruz Mejia',\n",
       "  'link': 'https://codeup.com/codeup-news/panelist-spotlight-4/',\n",
       "  'date_published': 'Feb 16, 2023',\n",
       "  'content': ' Black excellence in tech: Panelist Spotlight – Wilmarie De La Cruz Mejia  Codeup is hosting a Black Excellence in Tech Panel in honor of Black History Month on February 22, 2023! To further celebrate, we’d like to spotlight each of our panelists leading up to the discussion to learn a bit about their respective experiences as black leaders in the tech industry!\\xa0\\xa0 Meet Wilmarie! Wilmarie De\\xa0La Cruz Mejia is a current Codeup student on the path to becoming a Full-Stack Web Developer at our Dallas, TX campus.\\xa0 Wilmarie is a veteran expanding her knowledge of programming languages and technologies on her journey with Codeup.\\xa0 We asked Wilmarie to share more about her experience at Codeup. She shares, “I was able to meet other people who were passionate about coding and be in a positive learning environment.” We hope you can join us on February 22nd to sit in on an insightful conversation with Wilmarie and all of our panelists! '}]"
      ]
     },
     "execution_count": 70,
     "metadata": {},
     "output_type": "execute_result"
    }
   ],
   "source": [
    "blogs = wr.get_blog_articles()\n",
    "blogs"
   ]
  },
  {
   "cell_type": "code",
   "execution_count": 72,
   "id": "1d5e8021-eb1e-4415-b651-e703522cd0ee",
   "metadata": {},
   "outputs": [
    {
     "data": {
      "text/html": [
       "<div>\n",
       "<style scoped>\n",
       "    .dataframe tbody tr th:only-of-type {\n",
       "        vertical-align: middle;\n",
       "    }\n",
       "\n",
       "    .dataframe tbody tr th {\n",
       "        vertical-align: top;\n",
       "    }\n",
       "\n",
       "    .dataframe thead th {\n",
       "        text-align: right;\n",
       "    }\n",
       "</style>\n",
       "<table border=\"1\" class=\"dataframe\">\n",
       "  <thead>\n",
       "    <tr style=\"text-align: right;\">\n",
       "      <th></th>\n",
       "      <th>title</th>\n",
       "      <th>link</th>\n",
       "      <th>date_published</th>\n",
       "      <th>content</th>\n",
       "    </tr>\n",
       "  </thead>\n",
       "  <tbody>\n",
       "    <tr>\n",
       "      <th>0</th>\n",
       "      <td>Spotlight on APIDA Voices: Celebrating Heritag...</td>\n",
       "      <td>https://codeup.com/featured/apida-heritage-month/</td>\n",
       "      <td>May 24, 2023</td>\n",
       "      <td>May is traditionally known as Asian American ...</td>\n",
       "    </tr>\n",
       "  </tbody>\n",
       "</table>\n",
       "</div>"
      ],
      "text/plain": [
       "                                               title  \\\n",
       "0  Spotlight on APIDA Voices: Celebrating Heritag...   \n",
       "\n",
       "                                                link date_published  \\\n",
       "0  https://codeup.com/featured/apida-heritage-month/   May 24, 2023   \n",
       "\n",
       "                                             content  \n",
       "0   May is traditionally known as Asian American ...  "
      ]
     },
     "execution_count": 72,
     "metadata": {},
     "output_type": "execute_result"
    }
   ],
   "source": [
    "#turned into df\n",
    "bdf = pd.DataFrame(blogs)\n",
    "bdf.head(1)"
   ]
  },
  {
   "cell_type": "code",
   "execution_count": 161,
   "id": "349848a7-a663-47cb-a8e5-281140c5667c",
   "metadata": {
    "scrolled": true,
    "tags": []
   },
   "outputs": [
    {
     "data": {
      "text/plain": [
       "{'title': ['Was never interested in being LoP, give me party post: Ajit Pawar',\n",
       "  \"2 transgenders killed with stones & knives in Hyderabad's Daibagh\",\n",
       "  \" I declare less than actual area while declaring properties: K'taka Deputy CM\",\n",
       "  'Experience hassle-free home interiors: HomeLane',\n",
       "  'Asit Modi would pinch my cheeks, say inappropriate things about my looks: Actress in FIR',\n",
       "  'US overestimated value of weapons sent to Ukraine by $6.2 bn due to error: Pentagon',\n",
       "  \"Iceland Cricket troll England with 'Bazball 0-1 Basic Common Sense' tweet\",\n",
       "  \"TIME releases list of the world's 100 most influential companies\",\n",
       "  \"'Cis' or 'cisgender' are considered slurs on Twitter: Elon Musk\",\n",
       "  \"Int'l Yoga day a call to stand up for humankind: NY Mayor at UN HQ\",\n",
       "  'Woman tortured to death by relatives in UP, loud music played to cover up screams',\n",
       "  'Urge brave sisters to lead way to bring peace to Manipur: Sonia',\n",
       "  'Yoga event led by PM Modi in US creates Guinness World Record',\n",
       "  'Thought kids at school would laugh at me, said no: Jugal on Masoom',\n",
       "  \"It was hard to find 300 transgender people for 'Haddi': Producer\",\n",
       "  'Eng got Cummins going by attacking him very aggressively: Healy',\n",
       "  \"Liverpool's Diaz scores as Colombia record historic win vs Germany\",\n",
       "  'Shaheen nails yorker, sends middle-stump cartwheeling in last over',\n",
       "  \"Amarnath yatra chance to show 'Kashmiriyat': Mufti to PDP members\",\n",
       "  'Ola Electric starts construction of 100 GWh gigafactory in TN',\n",
       "  'Video shows Army personnel performing underwater yoga in Kerala',\n",
       "  \"PM Modi's visit is to boost ties, not about Russia or China: US\",\n",
       "  \"German woman convicted of keeping Yazidi woman as 'slave' in Iraq\",\n",
       "  'Italians seeking surrogacy abroad may face up to €1 mn fine, jail',\n",
       "  'UBS to start Credit Suisse Asia Pacific job cuts in July: Report',\n",
       "  'Was never interested in being LoP, give me party post: Ajit Pawar',\n",
       "  \"2 transgenders killed with stones & knives in Hyderabad's Daibagh\",\n",
       "  \" I declare less than actual area while declaring properties: K'taka Deputy CM\",\n",
       "  'Experience hassle-free home interiors: HomeLane',\n",
       "  'Asit Modi would pinch my cheeks, say inappropriate things about my looks: Actress in FIR',\n",
       "  'US overestimated value of weapons sent to Ukraine by $6.2 bn due to error: Pentagon',\n",
       "  \"Iceland Cricket troll England with 'Bazball 0-1 Basic Common Sense' tweet\",\n",
       "  \"TIME releases list of the world's 100 most influential companies\",\n",
       "  \"'Cis' or 'cisgender' are considered slurs on Twitter: Elon Musk\",\n",
       "  \"Int'l Yoga day a call to stand up for humankind: NY Mayor at UN HQ\",\n",
       "  'Woman tortured to death by relatives in UP, loud music played to cover up screams',\n",
       "  'Urge brave sisters to lead way to bring peace to Manipur: Sonia',\n",
       "  'Yoga event led by PM Modi in US creates Guinness World Record',\n",
       "  'Thought kids at school would laugh at me, said no: Jugal on Masoom',\n",
       "  \"It was hard to find 300 transgender people for 'Haddi': Producer\",\n",
       "  'Eng got Cummins going by attacking him very aggressively: Healy',\n",
       "  \"Liverpool's Diaz scores as Colombia record historic win vs Germany\",\n",
       "  'Shaheen nails yorker, sends middle-stump cartwheeling in last over',\n",
       "  \"Amarnath yatra chance to show 'Kashmiriyat': Mufti to PDP members\",\n",
       "  'Ola Electric starts construction of 100 GWh gigafactory in TN',\n",
       "  'Video shows Army personnel performing underwater yoga in Kerala',\n",
       "  \"PM Modi's visit is to boost ties, not about Russia or China: US\",\n",
       "  \"German woman convicted of keeping Yazidi woman as 'slave' in Iraq\",\n",
       "  'Italians seeking surrogacy abroad may face up to €1 mn fine, jail',\n",
       "  'UBS to start Credit Suisse Asia Pacific job cuts in July: Report',\n",
       "  'Was never interested in being LoP, give me party post: Ajit Pawar',\n",
       "  \"2 transgenders killed with stones & knives in Hyderabad's Daibagh\",\n",
       "  \" I declare less than actual area while declaring properties: K'taka Deputy CM\",\n",
       "  'Experience hassle-free home interiors: HomeLane',\n",
       "  'Asit Modi would pinch my cheeks, say inappropriate things about my looks: Actress in FIR',\n",
       "  'US overestimated value of weapons sent to Ukraine by $6.2 bn due to error: Pentagon',\n",
       "  \"Iceland Cricket troll England with 'Bazball 0-1 Basic Common Sense' tweet\",\n",
       "  \"TIME releases list of the world's 100 most influential companies\",\n",
       "  \"'Cis' or 'cisgender' are considered slurs on Twitter: Elon Musk\",\n",
       "  \"Int'l Yoga day a call to stand up for humankind: NY Mayor at UN HQ\",\n",
       "  'Woman tortured to death by relatives in UP, loud music played to cover up screams',\n",
       "  'Urge brave sisters to lead way to bring peace to Manipur: Sonia',\n",
       "  'Yoga event led by PM Modi in US creates Guinness World Record',\n",
       "  'Thought kids at school would laugh at me, said no: Jugal on Masoom',\n",
       "  \"It was hard to find 300 transgender people for 'Haddi': Producer\",\n",
       "  'Eng got Cummins going by attacking him very aggressively: Healy',\n",
       "  \"Liverpool's Diaz scores as Colombia record historic win vs Germany\",\n",
       "  'Shaheen nails yorker, sends middle-stump cartwheeling in last over',\n",
       "  \"Amarnath yatra chance to show 'Kashmiriyat': Mufti to PDP members\",\n",
       "  'Ola Electric starts construction of 100 GWh gigafactory in TN',\n",
       "  'Video shows Army personnel performing underwater yoga in Kerala',\n",
       "  \"PM Modi's visit is to boost ties, not about Russia or China: US\",\n",
       "  \"German woman convicted of keeping Yazidi woman as 'slave' in Iraq\",\n",
       "  'Italians seeking surrogacy abroad may face up to €1 mn fine, jail',\n",
       "  'UBS to start Credit Suisse Asia Pacific job cuts in July: Report',\n",
       "  'Was never interested in being LoP, give me party post: Ajit Pawar',\n",
       "  \"2 transgenders killed with stones & knives in Hyderabad's Daibagh\",\n",
       "  \" I declare less than actual area while declaring properties: K'taka Deputy CM\",\n",
       "  'Experience hassle-free home interiors: HomeLane',\n",
       "  'Asit Modi would pinch my cheeks, say inappropriate things about my looks: Actress in FIR',\n",
       "  'US overestimated value of weapons sent to Ukraine by $6.2 bn due to error: Pentagon',\n",
       "  \"Iceland Cricket troll England with 'Bazball 0-1 Basic Common Sense' tweet\",\n",
       "  \"TIME releases list of the world's 100 most influential companies\",\n",
       "  \"'Cis' or 'cisgender' are considered slurs on Twitter: Elon Musk\",\n",
       "  \"Int'l Yoga day a call to stand up for humankind: NY Mayor at UN HQ\",\n",
       "  'Woman tortured to death by relatives in UP, loud music played to cover up screams',\n",
       "  'Urge brave sisters to lead way to bring peace to Manipur: Sonia',\n",
       "  'Yoga event led by PM Modi in US creates Guinness World Record',\n",
       "  'Thought kids at school would laugh at me, said no: Jugal on Masoom',\n",
       "  \"It was hard to find 300 transgender people for 'Haddi': Producer\",\n",
       "  'Eng got Cummins going by attacking him very aggressively: Healy',\n",
       "  \"Liverpool's Diaz scores as Colombia record historic win vs Germany\",\n",
       "  'Shaheen nails yorker, sends middle-stump cartwheeling in last over',\n",
       "  \"Amarnath yatra chance to show 'Kashmiriyat': Mufti to PDP members\",\n",
       "  'Ola Electric starts construction of 100 GWh gigafactory in TN',\n",
       "  'Video shows Army personnel performing underwater yoga in Kerala',\n",
       "  \"PM Modi's visit is to boost ties, not about Russia or China: US\",\n",
       "  \"German woman convicted of keeping Yazidi woman as 'slave' in Iraq\",\n",
       "  'Italians seeking surrogacy abroad may face up to €1 mn fine, jail',\n",
       "  'UBS to start Credit Suisse Asia Pacific job cuts in July: Report'],\n",
       " 'content': ['NCP leader Ajit Pawar has asked the party to relieve him of the responsibilities of Leader of Opposition (LoP) in the Maharashtra Assembly, PTI reported. \"I was never interested in working as Leader of Opposition, but accepted the role on demand of the party MLAs,\" he said. \"Assign me any post in the party organisation,\" Pawar added.',\n",
       "  \"Two transgenders aged between 25 and 30 died after they were attacked with stones and knives in Hyderabad's Daibagh at around 1 am on Wednesday. Based on a preliminary investigation, police said the accused may have been intimately involved with them. In a separate incident, two homeless persons were killed with boulders when they were asleep on roadside in Hyderabad.\",\n",
       "  'Karnataka Deputy CM DK Shivakumar while talking about the payment of property taxes in Bengaluru on Wednesday said, \"When declaring my properties, I declare less than the actual (area).\" He added, \"Such things are there. People like us too are committing a lot of mistakes. All this should be streamlined.\" He added that many people were not paying property taxes.',\n",
       "  \"HomeLane invites you to discover the world of personalized interiors. With a '45-day delivery or we pay rent' guarantee and a 'flat 10-year warranty', HomeLane ensures a hassle-free experience. Powered by cutting-edge Spacecraft Pro software, you can get free personalized 3D designs and instant quotes with no hidden costs. HomeLane interiors start at just ₹3.5 lakh* with 0% EMI.\",\n",
       "  'The details of FIR filed against \\'Taarak Mehta Ka Ooltah Chashmah\\' producer Asit Modi on basis of repeated complaints by an actress have been accessed by CNN-News18. In the FIR, the actress alleged he\\'d pinch her cheeks and say inappropriate things about her appearance. \"He\\'d also say...he would\\'ve hugged me if we were together while talking over...phone,\" the statement read.',\n",
       "  'The Pentagon said that it overestimated the value of weapons it sent to war-hit Ukraine by $6.2 billion due to accounting error over the past two years. \"In a significant number of cases, services used replacement costs rather than net book value,\" Pentagon spokeswoman Sabrina Singh said. She added the department now has additional money to use to support Ukraine.',\n",
       "  'Iceland Cricket have trolled England after their defeat against Australia in the first Ashes 2023 Test at Edgbaston. \"Bazball 0-1 Basic Common Sense,\" Iceland Cricket tweeted. Australia defeated England by chasing down a target of 281 with 4.3 overs to spare on the last day. Earlier in the Test, England had declared their first innings at 393/8 on Day 1.',\n",
       "  'TIME magazine has released its annual list of the world\\'s 100 most influential companies, which features OpenAI, SpaceX, Chess.com, Google DeepMind and Kim Kardashian\\'s SKIMS among others. The National Payments Corporation of India (NPCI) and e-commerce platform Meesho also featured on the list. \"NPCI launched UPI...which accounted for 52% of India\\'s digital transactions in FY22,\" TIME said.',\n",
       "  'Elon Musk has said that the words \"cis\" or \"cisgender\" are considered slurs on Twitter. He added, \"Repeated, targeted harassment against any account will cause the harassing accounts to receive, at minimum, temporary suspensions.\" According to Merriam-Webster, \\'cisgender\\' refers to being a person whose gender identity corresponds with the sex the person had or was identified as having at birth.',\n",
       "  'Addressing the International Yoga Day event at UN Headquarters, New York City Mayor Eric Adams said this International Yoga Day is a call for us to stand up for humankind across the globe. \"I\\'m proud to be here and...proud to represent this city symbolically,\" Adams said. Use the spirit and emotions of yoga to fight against war, Adams added.',\n",
       "  \"A 23-year-old woman was allegedly tortured to death by her relatives on suspicion of jewellery theft in UP's Ghaziabad. The victim, Samina, was allegedly attacked with sticks and rods and even slashed with a blade by her relatives Heena and Ramesh, who thought she stole jewellery worth lakhs. They also allegedly played loud music to drown out her screams.\",\n",
       "  'Congress leader Sonia Gandhi has reacted to the ongoing violence in Manipur. \"I am deeply saddened to see people forced to flee the only place they call home and leave behind all that they have built over a lifetime,\" she said. She appealed to the \"brave sisters\" of Manipur to lead the way in bringing peace to the state. ',\n",
       "  'The International Yoga Day event held at the UN Headquarters in New York on Wednesday created a Guinness World Record for the most nationalities in a yoga session. PM Narendra Modi, who is in the US on a state visit, led the event. People of 135 nationalities reportedly attended the event and performed yoga on the UN Headquarters lawns.',\n",
       "  'Jugal Hansraj said that he had initially rejected Shekhar Kapur\\'s \\'Masoom\\'. \"When I heard the story, I thought this kid cries a lot...Everyone in my school would laugh at me...call me a crybaby...I said no,\" Hansraj shared. He added that the filmmaker insisted that he wanted Jugal in the film. \"I actually had...lot of fun,\" Hansraj said about shooting \\'Masoom\\'. ',\n",
       "  'Producer Sanjay Saha said that finding 300 transgender people for Nawazuddin Siddiqui\\'s \\'Haddi\\' was \"very adventurous and hard\". He added that a transwoman named Renuka helped the filmmakers to learn about transgender community. \"She had brought some of her friends from the community to Nawaz so that he could get into the character and deeply understand their life,\" he added. ',\n",
       "  'Discussing Australia captain Pat Cummins\\' unbeaten 44 in the Edgbaston Test which helped his team record their highest successful chase in Ashes in nearly 75 years, ex-Australia wicketkeeper-batter Ian Healy said, \"England...attacked Cummins very aggressively.\" \"England annoyed him. They [spoke] to him when they bowled to him in the first innings...England got him going...with the bat,\" he added.',\n",
       "  'Liverpool attacker Luis Díaz and Juventus midfielder Juan Cuadrado scored as Colombia defeated Germany 2-0 in a friendly match, recording their first-ever win against the latter. The two teams were facing each other for the fifth time. Germany have won three of their last 11 matches. \"Everything\\'s missing...Everything is going against us at the moment,” stated Germany midfielder Leon Goretzka.',\n",
       "  'Pakistani pacer Shaheen Afridi nailed a yorker and sent the middle-stump cartwheeling to pick two wickets in the final over of a T20 Blast 2023 match between Leicestershire and Nottinghamshire, where he was representing the latter. Shaheen made a comeback after conceding a four off the first delivery of the over, accounting for dismissals off the second and fifth delivery.',\n",
       "  'PDP chief Mehbooba Mufti on Wednesday urged party workers to support the upcoming annual Amarnath Yatra, calling the pilgrimage a \"golden chance\" to remind the country of Kashmiriyat. \"The yatris are our guests, there should not be any lack in taking care of them as it is our tradition,\" Mufti said in Srinagar after a party meeting.',\n",
       "  'Electric vehicle company Ola Electric on Wednesday commenced the construction of a 100 GWh gigafactory at its manufacturing facility in Tamil Nadu\\'s Krishnagiri. Ola Founder and CEO Bhavish Aggarwal took to Twitter and said, \"Installed our first pillar at the Ola Gigafactory. So proud and excited about the work our team is doing to make India a global EV hub.\"\\n',\n",
       "  'On the occasion of ninth International Yoga Day, the Indian Army at Pangode Military Station in Kerala\\'s Thiruvananthapuram organised an underwater yoga session. A video of the soldiers performing yoga underwater has surfaced online. It was performed by well-trained \"Amphibious Warriors\" of Pangode Military Station under the guidance of a yoga instructor and free diver. ',\n",
       "  'White House National Security Council Coordinator for Strategic Communications John Kirby said PM Narendra Modi\\'s state visit to the country is not about China or Russia and is aimed at improving ties between the two countries. \"It\\'s about focusing on where we are in this relationship,\" Kirby stated. PM Modi will address joint session of US Congress on June 22.\\n',\n",
       "  'A German woman has been convicted of keeping a Yazidi woman as a slave in Iraq and sentenced to over nine years in prison. A state court in Germany found that the defendant had abused the Yazidi woman for three years \"in her own interests\" as her husband, who was an Islamic State terrorist, regularly raped the latter.',\n",
       "  'Italian lawmakers are debating a bill that could make it illegal for Italians to pursue parenthood abroad via surrogacy, even if the practice is legal in the concerned country. The proposed law would authorise prison terms of up to three years and fines of up to €1 million if a person is convicted. Surrogacy is already illegal in Italy.',\n",
       "  'UBS will start cutting Asia investment banking jobs at Credit Suisse in July, Reuters cited three sources as saying. In the Asia Pacific region, there will be a significant reduction in Credit Suisse investment bankers covering Australia and China, where the two banks overlap most, two sources said. UBS completed its emergency takeover of rival Credit Suisse last week.\\n',\n",
       "  'NCP leader Ajit Pawar has asked the party to relieve him of the responsibilities of Leader of Opposition (LoP) in the Maharashtra Assembly, PTI reported. \"I was never interested in working as Leader of Opposition, but accepted the role on demand of the party MLAs,\" he said. \"Assign me any post in the party organisation,\" Pawar added.',\n",
       "  \"Two transgenders aged between 25 and 30 died after they were attacked with stones and knives in Hyderabad's Daibagh at around 1 am on Wednesday. Based on a preliminary investigation, police said the accused may have been intimately involved with them. In a separate incident, two homeless persons were killed with boulders when they were asleep on roadside in Hyderabad.\",\n",
       "  'Karnataka Deputy CM DK Shivakumar while talking about the payment of property taxes in Bengaluru on Wednesday said, \"When declaring my properties, I declare less than the actual (area).\" He added, \"Such things are there. People like us too are committing a lot of mistakes. All this should be streamlined.\" He added that many people were not paying property taxes.',\n",
       "  \"HomeLane invites you to discover the world of personalized interiors. With a '45-day delivery or we pay rent' guarantee and a 'flat 10-year warranty', HomeLane ensures a hassle-free experience. Powered by cutting-edge Spacecraft Pro software, you can get free personalized 3D designs and instant quotes with no hidden costs. HomeLane interiors start at just ₹3.5 lakh* with 0% EMI.\",\n",
       "  'The details of FIR filed against \\'Taarak Mehta Ka Ooltah Chashmah\\' producer Asit Modi on basis of repeated complaints by an actress have been accessed by CNN-News18. In the FIR, the actress alleged he\\'d pinch her cheeks and say inappropriate things about her appearance. \"He\\'d also say...he would\\'ve hugged me if we were together while talking over...phone,\" the statement read.',\n",
       "  'The Pentagon said that it overestimated the value of weapons it sent to war-hit Ukraine by $6.2 billion due to accounting error over the past two years. \"In a significant number of cases, services used replacement costs rather than net book value,\" Pentagon spokeswoman Sabrina Singh said. She added the department now has additional money to use to support Ukraine.',\n",
       "  'Iceland Cricket have trolled England after their defeat against Australia in the first Ashes 2023 Test at Edgbaston. \"Bazball 0-1 Basic Common Sense,\" Iceland Cricket tweeted. Australia defeated England by chasing down a target of 281 with 4.3 overs to spare on the last day. Earlier in the Test, England had declared their first innings at 393/8 on Day 1.',\n",
       "  'TIME magazine has released its annual list of the world\\'s 100 most influential companies, which features OpenAI, SpaceX, Chess.com, Google DeepMind and Kim Kardashian\\'s SKIMS among others. The National Payments Corporation of India (NPCI) and e-commerce platform Meesho also featured on the list. \"NPCI launched UPI...which accounted for 52% of India\\'s digital transactions in FY22,\" TIME said.',\n",
       "  'Elon Musk has said that the words \"cis\" or \"cisgender\" are considered slurs on Twitter. He added, \"Repeated, targeted harassment against any account will cause the harassing accounts to receive, at minimum, temporary suspensions.\" According to Merriam-Webster, \\'cisgender\\' refers to being a person whose gender identity corresponds with the sex the person had or was identified as having at birth.',\n",
       "  'Addressing the International Yoga Day event at UN Headquarters, New York City Mayor Eric Adams said this International Yoga Day is a call for us to stand up for humankind across the globe. \"I\\'m proud to be here and...proud to represent this city symbolically,\" Adams said. Use the spirit and emotions of yoga to fight against war, Adams added.',\n",
       "  \"A 23-year-old woman was allegedly tortured to death by her relatives on suspicion of jewellery theft in UP's Ghaziabad. The victim, Samina, was allegedly attacked with sticks and rods and even slashed with a blade by her relatives Heena and Ramesh, who thought she stole jewellery worth lakhs. They also allegedly played loud music to drown out her screams.\",\n",
       "  'Congress leader Sonia Gandhi has reacted to the ongoing violence in Manipur. \"I am deeply saddened to see people forced to flee the only place they call home and leave behind all that they have built over a lifetime,\" she said. She appealed to the \"brave sisters\" of Manipur to lead the way in bringing peace to the state. ',\n",
       "  'The International Yoga Day event held at the UN Headquarters in New York on Wednesday created a Guinness World Record for the most nationalities in a yoga session. PM Narendra Modi, who is in the US on a state visit, led the event. People of 135 nationalities reportedly attended the event and performed yoga on the UN Headquarters lawns.',\n",
       "  'Jugal Hansraj said that he had initially rejected Shekhar Kapur\\'s \\'Masoom\\'. \"When I heard the story, I thought this kid cries a lot...Everyone in my school would laugh at me...call me a crybaby...I said no,\" Hansraj shared. He added that the filmmaker insisted that he wanted Jugal in the film. \"I actually had...lot of fun,\" Hansraj said about shooting \\'Masoom\\'. ',\n",
       "  'Producer Sanjay Saha said that finding 300 transgender people for Nawazuddin Siddiqui\\'s \\'Haddi\\' was \"very adventurous and hard\". He added that a transwoman named Renuka helped the filmmakers to learn about transgender community. \"She had brought some of her friends from the community to Nawaz so that he could get into the character and deeply understand their life,\" he added. ',\n",
       "  'Discussing Australia captain Pat Cummins\\' unbeaten 44 in the Edgbaston Test which helped his team record their highest successful chase in Ashes in nearly 75 years, ex-Australia wicketkeeper-batter Ian Healy said, \"England...attacked Cummins very aggressively.\" \"England annoyed him. They [spoke] to him when they bowled to him in the first innings...England got him going...with the bat,\" he added.',\n",
       "  'Liverpool attacker Luis Díaz and Juventus midfielder Juan Cuadrado scored as Colombia defeated Germany 2-0 in a friendly match, recording their first-ever win against the latter. The two teams were facing each other for the fifth time. Germany have won three of their last 11 matches. \"Everything\\'s missing...Everything is going against us at the moment,” stated Germany midfielder Leon Goretzka.',\n",
       "  'Pakistani pacer Shaheen Afridi nailed a yorker and sent the middle-stump cartwheeling to pick two wickets in the final over of a T20 Blast 2023 match between Leicestershire and Nottinghamshire, where he was representing the latter. Shaheen made a comeback after conceding a four off the first delivery of the over, accounting for dismissals off the second and fifth delivery.',\n",
       "  'PDP chief Mehbooba Mufti on Wednesday urged party workers to support the upcoming annual Amarnath Yatra, calling the pilgrimage a \"golden chance\" to remind the country of Kashmiriyat. \"The yatris are our guests, there should not be any lack in taking care of them as it is our tradition,\" Mufti said in Srinagar after a party meeting.',\n",
       "  'Electric vehicle company Ola Electric on Wednesday commenced the construction of a 100 GWh gigafactory at its manufacturing facility in Tamil Nadu\\'s Krishnagiri. Ola Founder and CEO Bhavish Aggarwal took to Twitter and said, \"Installed our first pillar at the Ola Gigafactory. So proud and excited about the work our team is doing to make India a global EV hub.\"\\n',\n",
       "  'On the occasion of ninth International Yoga Day, the Indian Army at Pangode Military Station in Kerala\\'s Thiruvananthapuram organised an underwater yoga session. A video of the soldiers performing yoga underwater has surfaced online. It was performed by well-trained \"Amphibious Warriors\" of Pangode Military Station under the guidance of a yoga instructor and free diver. ',\n",
       "  'White House National Security Council Coordinator for Strategic Communications John Kirby said PM Narendra Modi\\'s state visit to the country is not about China or Russia and is aimed at improving ties between the two countries. \"It\\'s about focusing on where we are in this relationship,\" Kirby stated. PM Modi will address joint session of US Congress on June 22.\\n',\n",
       "  'A German woman has been convicted of keeping a Yazidi woman as a slave in Iraq and sentenced to over nine years in prison. A state court in Germany found that the defendant had abused the Yazidi woman for three years \"in her own interests\" as her husband, who was an Islamic State terrorist, regularly raped the latter.',\n",
       "  'Italian lawmakers are debating a bill that could make it illegal for Italians to pursue parenthood abroad via surrogacy, even if the practice is legal in the concerned country. The proposed law would authorise prison terms of up to three years and fines of up to €1 million if a person is convicted. Surrogacy is already illegal in Italy.',\n",
       "  'UBS will start cutting Asia investment banking jobs at Credit Suisse in July, Reuters cited three sources as saying. In the Asia Pacific region, there will be a significant reduction in Credit Suisse investment bankers covering Australia and China, where the two banks overlap most, two sources said. UBS completed its emergency takeover of rival Credit Suisse last week.\\n',\n",
       "  'NCP leader Ajit Pawar has asked the party to relieve him of the responsibilities of Leader of Opposition (LoP) in the Maharashtra Assembly, PTI reported. \"I was never interested in working as Leader of Opposition, but accepted the role on demand of the party MLAs,\" he said. \"Assign me any post in the party organisation,\" Pawar added.',\n",
       "  \"Two transgenders aged between 25 and 30 died after they were attacked with stones and knives in Hyderabad's Daibagh at around 1 am on Wednesday. Based on a preliminary investigation, police said the accused may have been intimately involved with them. In a separate incident, two homeless persons were killed with boulders when they were asleep on roadside in Hyderabad.\",\n",
       "  'Karnataka Deputy CM DK Shivakumar while talking about the payment of property taxes in Bengaluru on Wednesday said, \"When declaring my properties, I declare less than the actual (area).\" He added, \"Such things are there. People like us too are committing a lot of mistakes. All this should be streamlined.\" He added that many people were not paying property taxes.',\n",
       "  \"HomeLane invites you to discover the world of personalized interiors. With a '45-day delivery or we pay rent' guarantee and a 'flat 10-year warranty', HomeLane ensures a hassle-free experience. Powered by cutting-edge Spacecraft Pro software, you can get free personalized 3D designs and instant quotes with no hidden costs. HomeLane interiors start at just ₹3.5 lakh* with 0% EMI.\",\n",
       "  'The details of FIR filed against \\'Taarak Mehta Ka Ooltah Chashmah\\' producer Asit Modi on basis of repeated complaints by an actress have been accessed by CNN-News18. In the FIR, the actress alleged he\\'d pinch her cheeks and say inappropriate things about her appearance. \"He\\'d also say...he would\\'ve hugged me if we were together while talking over...phone,\" the statement read.',\n",
       "  'The Pentagon said that it overestimated the value of weapons it sent to war-hit Ukraine by $6.2 billion due to accounting error over the past two years. \"In a significant number of cases, services used replacement costs rather than net book value,\" Pentagon spokeswoman Sabrina Singh said. She added the department now has additional money to use to support Ukraine.',\n",
       "  'Iceland Cricket have trolled England after their defeat against Australia in the first Ashes 2023 Test at Edgbaston. \"Bazball 0-1 Basic Common Sense,\" Iceland Cricket tweeted. Australia defeated England by chasing down a target of 281 with 4.3 overs to spare on the last day. Earlier in the Test, England had declared their first innings at 393/8 on Day 1.',\n",
       "  'TIME magazine has released its annual list of the world\\'s 100 most influential companies, which features OpenAI, SpaceX, Chess.com, Google DeepMind and Kim Kardashian\\'s SKIMS among others. The National Payments Corporation of India (NPCI) and e-commerce platform Meesho also featured on the list. \"NPCI launched UPI...which accounted for 52% of India\\'s digital transactions in FY22,\" TIME said.',\n",
       "  'Elon Musk has said that the words \"cis\" or \"cisgender\" are considered slurs on Twitter. He added, \"Repeated, targeted harassment against any account will cause the harassing accounts to receive, at minimum, temporary suspensions.\" According to Merriam-Webster, \\'cisgender\\' refers to being a person whose gender identity corresponds with the sex the person had or was identified as having at birth.',\n",
       "  'Addressing the International Yoga Day event at UN Headquarters, New York City Mayor Eric Adams said this International Yoga Day is a call for us to stand up for humankind across the globe. \"I\\'m proud to be here and...proud to represent this city symbolically,\" Adams said. Use the spirit and emotions of yoga to fight against war, Adams added.',\n",
       "  \"A 23-year-old woman was allegedly tortured to death by her relatives on suspicion of jewellery theft in UP's Ghaziabad. The victim, Samina, was allegedly attacked with sticks and rods and even slashed with a blade by her relatives Heena and Ramesh, who thought she stole jewellery worth lakhs. They also allegedly played loud music to drown out her screams.\",\n",
       "  'Congress leader Sonia Gandhi has reacted to the ongoing violence in Manipur. \"I am deeply saddened to see people forced to flee the only place they call home and leave behind all that they have built over a lifetime,\" she said. She appealed to the \"brave sisters\" of Manipur to lead the way in bringing peace to the state. ',\n",
       "  'The International Yoga Day event held at the UN Headquarters in New York on Wednesday created a Guinness World Record for the most nationalities in a yoga session. PM Narendra Modi, who is in the US on a state visit, led the event. People of 135 nationalities reportedly attended the event and performed yoga on the UN Headquarters lawns.',\n",
       "  'Jugal Hansraj said that he had initially rejected Shekhar Kapur\\'s \\'Masoom\\'. \"When I heard the story, I thought this kid cries a lot...Everyone in my school would laugh at me...call me a crybaby...I said no,\" Hansraj shared. He added that the filmmaker insisted that he wanted Jugal in the film. \"I actually had...lot of fun,\" Hansraj said about shooting \\'Masoom\\'. ',\n",
       "  'Producer Sanjay Saha said that finding 300 transgender people for Nawazuddin Siddiqui\\'s \\'Haddi\\' was \"very adventurous and hard\". He added that a transwoman named Renuka helped the filmmakers to learn about transgender community. \"She had brought some of her friends from the community to Nawaz so that he could get into the character and deeply understand their life,\" he added. ',\n",
       "  'Discussing Australia captain Pat Cummins\\' unbeaten 44 in the Edgbaston Test which helped his team record their highest successful chase in Ashes in nearly 75 years, ex-Australia wicketkeeper-batter Ian Healy said, \"England...attacked Cummins very aggressively.\" \"England annoyed him. They [spoke] to him when they bowled to him in the first innings...England got him going...with the bat,\" he added.',\n",
       "  'Liverpool attacker Luis Díaz and Juventus midfielder Juan Cuadrado scored as Colombia defeated Germany 2-0 in a friendly match, recording their first-ever win against the latter. The two teams were facing each other for the fifth time. Germany have won three of their last 11 matches. \"Everything\\'s missing...Everything is going against us at the moment,” stated Germany midfielder Leon Goretzka.',\n",
       "  'Pakistani pacer Shaheen Afridi nailed a yorker and sent the middle-stump cartwheeling to pick two wickets in the final over of a T20 Blast 2023 match between Leicestershire and Nottinghamshire, where he was representing the latter. Shaheen made a comeback after conceding a four off the first delivery of the over, accounting for dismissals off the second and fifth delivery.',\n",
       "  'PDP chief Mehbooba Mufti on Wednesday urged party workers to support the upcoming annual Amarnath Yatra, calling the pilgrimage a \"golden chance\" to remind the country of Kashmiriyat. \"The yatris are our guests, there should not be any lack in taking care of them as it is our tradition,\" Mufti said in Srinagar after a party meeting.',\n",
       "  'Electric vehicle company Ola Electric on Wednesday commenced the construction of a 100 GWh gigafactory at its manufacturing facility in Tamil Nadu\\'s Krishnagiri. Ola Founder and CEO Bhavish Aggarwal took to Twitter and said, \"Installed our first pillar at the Ola Gigafactory. So proud and excited about the work our team is doing to make India a global EV hub.\"\\n',\n",
       "  'On the occasion of ninth International Yoga Day, the Indian Army at Pangode Military Station in Kerala\\'s Thiruvananthapuram organised an underwater yoga session. A video of the soldiers performing yoga underwater has surfaced online. It was performed by well-trained \"Amphibious Warriors\" of Pangode Military Station under the guidance of a yoga instructor and free diver. ',\n",
       "  'White House National Security Council Coordinator for Strategic Communications John Kirby said PM Narendra Modi\\'s state visit to the country is not about China or Russia and is aimed at improving ties between the two countries. \"It\\'s about focusing on where we are in this relationship,\" Kirby stated. PM Modi will address joint session of US Congress on June 22.\\n',\n",
       "  'A German woman has been convicted of keeping a Yazidi woman as a slave in Iraq and sentenced to over nine years in prison. A state court in Germany found that the defendant had abused the Yazidi woman for three years \"in her own interests\" as her husband, who was an Islamic State terrorist, regularly raped the latter.',\n",
       "  'Italian lawmakers are debating a bill that could make it illegal for Italians to pursue parenthood abroad via surrogacy, even if the practice is legal in the concerned country. The proposed law would authorise prison terms of up to three years and fines of up to €1 million if a person is convicted. Surrogacy is already illegal in Italy.',\n",
       "  'UBS will start cutting Asia investment banking jobs at Credit Suisse in July, Reuters cited three sources as saying. In the Asia Pacific region, there will be a significant reduction in Credit Suisse investment bankers covering Australia and China, where the two banks overlap most, two sources said. UBS completed its emergency takeover of rival Credit Suisse last week.\\n',\n",
       "  'NCP leader Ajit Pawar has asked the party to relieve him of the responsibilities of Leader of Opposition (LoP) in the Maharashtra Assembly, PTI reported. \"I was never interested in working as Leader of Opposition, but accepted the role on demand of the party MLAs,\" he said. \"Assign me any post in the party organisation,\" Pawar added.',\n",
       "  \"Two transgenders aged between 25 and 30 died after they were attacked with stones and knives in Hyderabad's Daibagh at around 1 am on Wednesday. Based on a preliminary investigation, police said the accused may have been intimately involved with them. In a separate incident, two homeless persons were killed with boulders when they were asleep on roadside in Hyderabad.\",\n",
       "  'Karnataka Deputy CM DK Shivakumar while talking about the payment of property taxes in Bengaluru on Wednesday said, \"When declaring my properties, I declare less than the actual (area).\" He added, \"Such things are there. People like us too are committing a lot of mistakes. All this should be streamlined.\" He added that many people were not paying property taxes.',\n",
       "  \"HomeLane invites you to discover the world of personalized interiors. With a '45-day delivery or we pay rent' guarantee and a 'flat 10-year warranty', HomeLane ensures a hassle-free experience. Powered by cutting-edge Spacecraft Pro software, you can get free personalized 3D designs and instant quotes with no hidden costs. HomeLane interiors start at just ₹3.5 lakh* with 0% EMI.\",\n",
       "  'The details of FIR filed against \\'Taarak Mehta Ka Ooltah Chashmah\\' producer Asit Modi on basis of repeated complaints by an actress have been accessed by CNN-News18. In the FIR, the actress alleged he\\'d pinch her cheeks and say inappropriate things about her appearance. \"He\\'d also say...he would\\'ve hugged me if we were together while talking over...phone,\" the statement read.',\n",
       "  'The Pentagon said that it overestimated the value of weapons it sent to war-hit Ukraine by $6.2 billion due to accounting error over the past two years. \"In a significant number of cases, services used replacement costs rather than net book value,\" Pentagon spokeswoman Sabrina Singh said. She added the department now has additional money to use to support Ukraine.',\n",
       "  'Iceland Cricket have trolled England after their defeat against Australia in the first Ashes 2023 Test at Edgbaston. \"Bazball 0-1 Basic Common Sense,\" Iceland Cricket tweeted. Australia defeated England by chasing down a target of 281 with 4.3 overs to spare on the last day. Earlier in the Test, England had declared their first innings at 393/8 on Day 1.',\n",
       "  'TIME magazine has released its annual list of the world\\'s 100 most influential companies, which features OpenAI, SpaceX, Chess.com, Google DeepMind and Kim Kardashian\\'s SKIMS among others. The National Payments Corporation of India (NPCI) and e-commerce platform Meesho also featured on the list. \"NPCI launched UPI...which accounted for 52% of India\\'s digital transactions in FY22,\" TIME said.',\n",
       "  'Elon Musk has said that the words \"cis\" or \"cisgender\" are considered slurs on Twitter. He added, \"Repeated, targeted harassment against any account will cause the harassing accounts to receive, at minimum, temporary suspensions.\" According to Merriam-Webster, \\'cisgender\\' refers to being a person whose gender identity corresponds with the sex the person had or was identified as having at birth.',\n",
       "  'Addressing the International Yoga Day event at UN Headquarters, New York City Mayor Eric Adams said this International Yoga Day is a call for us to stand up for humankind across the globe. \"I\\'m proud to be here and...proud to represent this city symbolically,\" Adams said. Use the spirit and emotions of yoga to fight against war, Adams added.',\n",
       "  \"A 23-year-old woman was allegedly tortured to death by her relatives on suspicion of jewellery theft in UP's Ghaziabad. The victim, Samina, was allegedly attacked with sticks and rods and even slashed with a blade by her relatives Heena and Ramesh, who thought she stole jewellery worth lakhs. They also allegedly played loud music to drown out her screams.\",\n",
       "  'Congress leader Sonia Gandhi has reacted to the ongoing violence in Manipur. \"I am deeply saddened to see people forced to flee the only place they call home and leave behind all that they have built over a lifetime,\" she said. She appealed to the \"brave sisters\" of Manipur to lead the way in bringing peace to the state. ',\n",
       "  'The International Yoga Day event held at the UN Headquarters in New York on Wednesday created a Guinness World Record for the most nationalities in a yoga session. PM Narendra Modi, who is in the US on a state visit, led the event. People of 135 nationalities reportedly attended the event and performed yoga on the UN Headquarters lawns.',\n",
       "  'Jugal Hansraj said that he had initially rejected Shekhar Kapur\\'s \\'Masoom\\'. \"When I heard the story, I thought this kid cries a lot...Everyone in my school would laugh at me...call me a crybaby...I said no,\" Hansraj shared. He added that the filmmaker insisted that he wanted Jugal in the film. \"I actually had...lot of fun,\" Hansraj said about shooting \\'Masoom\\'. ',\n",
       "  'Producer Sanjay Saha said that finding 300 transgender people for Nawazuddin Siddiqui\\'s \\'Haddi\\' was \"very adventurous and hard\". He added that a transwoman named Renuka helped the filmmakers to learn about transgender community. \"She had brought some of her friends from the community to Nawaz so that he could get into the character and deeply understand their life,\" he added. ',\n",
       "  'Discussing Australia captain Pat Cummins\\' unbeaten 44 in the Edgbaston Test which helped his team record their highest successful chase in Ashes in nearly 75 years, ex-Australia wicketkeeper-batter Ian Healy said, \"England...attacked Cummins very aggressively.\" \"England annoyed him. They [spoke] to him when they bowled to him in the first innings...England got him going...with the bat,\" he added.',\n",
       "  'Liverpool attacker Luis Díaz and Juventus midfielder Juan Cuadrado scored as Colombia defeated Germany 2-0 in a friendly match, recording their first-ever win against the latter. The two teams were facing each other for the fifth time. Germany have won three of their last 11 matches. \"Everything\\'s missing...Everything is going against us at the moment,” stated Germany midfielder Leon Goretzka.',\n",
       "  'Pakistani pacer Shaheen Afridi nailed a yorker and sent the middle-stump cartwheeling to pick two wickets in the final over of a T20 Blast 2023 match between Leicestershire and Nottinghamshire, where he was representing the latter. Shaheen made a comeback after conceding a four off the first delivery of the over, accounting for dismissals off the second and fifth delivery.',\n",
       "  'PDP chief Mehbooba Mufti on Wednesday urged party workers to support the upcoming annual Amarnath Yatra, calling the pilgrimage a \"golden chance\" to remind the country of Kashmiriyat. \"The yatris are our guests, there should not be any lack in taking care of them as it is our tradition,\" Mufti said in Srinagar after a party meeting.',\n",
       "  'Electric vehicle company Ola Electric on Wednesday commenced the construction of a 100 GWh gigafactory at its manufacturing facility in Tamil Nadu\\'s Krishnagiri. Ola Founder and CEO Bhavish Aggarwal took to Twitter and said, \"Installed our first pillar at the Ola Gigafactory. So proud and excited about the work our team is doing to make India a global EV hub.\"\\n',\n",
       "  'On the occasion of ninth International Yoga Day, the Indian Army at Pangode Military Station in Kerala\\'s Thiruvananthapuram organised an underwater yoga session. A video of the soldiers performing yoga underwater has surfaced online. It was performed by well-trained \"Amphibious Warriors\" of Pangode Military Station under the guidance of a yoga instructor and free diver. ',\n",
       "  'White House National Security Council Coordinator for Strategic Communications John Kirby said PM Narendra Modi\\'s state visit to the country is not about China or Russia and is aimed at improving ties between the two countries. \"It\\'s about focusing on where we are in this relationship,\" Kirby stated. PM Modi will address joint session of US Congress on June 22.\\n',\n",
       "  'A German woman has been convicted of keeping a Yazidi woman as a slave in Iraq and sentenced to over nine years in prison. A state court in Germany found that the defendant had abused the Yazidi woman for three years \"in her own interests\" as her husband, who was an Islamic State terrorist, regularly raped the latter.',\n",
       "  'Italian lawmakers are debating a bill that could make it illegal for Italians to pursue parenthood abroad via surrogacy, even if the practice is legal in the concerned country. The proposed law would authorise prison terms of up to three years and fines of up to €1 million if a person is convicted. Surrogacy is already illegal in Italy.',\n",
       "  'UBS will start cutting Asia investment banking jobs at Credit Suisse in July, Reuters cited three sources as saying. In the Asia Pacific region, there will be a significant reduction in Credit Suisse investment bankers covering Australia and China, where the two banks overlap most, two sources said. UBS completed its emergency takeover of rival Credit Suisse last week.\\n'],\n",
       " 'category': ['business',\n",
       "  'business',\n",
       "  'business',\n",
       "  'business',\n",
       "  'business',\n",
       "  'business',\n",
       "  'business',\n",
       "  'business',\n",
       "  'business',\n",
       "  'business',\n",
       "  'business',\n",
       "  'business',\n",
       "  'business',\n",
       "  'business',\n",
       "  'business',\n",
       "  'business',\n",
       "  'business',\n",
       "  'business',\n",
       "  'business',\n",
       "  'business',\n",
       "  'business',\n",
       "  'business',\n",
       "  'business',\n",
       "  'business',\n",
       "  'business',\n",
       "  'sports',\n",
       "  'sports',\n",
       "  'sports',\n",
       "  'sports',\n",
       "  'sports',\n",
       "  'sports',\n",
       "  'sports',\n",
       "  'sports',\n",
       "  'sports',\n",
       "  'sports',\n",
       "  'sports',\n",
       "  'sports',\n",
       "  'sports',\n",
       "  'sports',\n",
       "  'sports',\n",
       "  'sports',\n",
       "  'sports',\n",
       "  'sports',\n",
       "  'sports',\n",
       "  'sports',\n",
       "  'sports',\n",
       "  'sports',\n",
       "  'sports',\n",
       "  'sports',\n",
       "  'sports',\n",
       "  'technology',\n",
       "  'technology',\n",
       "  'technology',\n",
       "  'technology',\n",
       "  'technology',\n",
       "  'technology',\n",
       "  'technology',\n",
       "  'technology',\n",
       "  'technology',\n",
       "  'technology',\n",
       "  'technology',\n",
       "  'technology',\n",
       "  'technology',\n",
       "  'technology',\n",
       "  'technology',\n",
       "  'technology',\n",
       "  'technology',\n",
       "  'technology',\n",
       "  'technology',\n",
       "  'technology',\n",
       "  'technology',\n",
       "  'technology',\n",
       "  'technology',\n",
       "  'technology',\n",
       "  'technology',\n",
       "  'entertainment',\n",
       "  'entertainment',\n",
       "  'entertainment',\n",
       "  'entertainment',\n",
       "  'entertainment',\n",
       "  'entertainment',\n",
       "  'entertainment',\n",
       "  'entertainment',\n",
       "  'entertainment',\n",
       "  'entertainment',\n",
       "  'entertainment',\n",
       "  'entertainment',\n",
       "  'entertainment',\n",
       "  'entertainment',\n",
       "  'entertainment',\n",
       "  'entertainment',\n",
       "  'entertainment',\n",
       "  'entertainment',\n",
       "  'entertainment',\n",
       "  'entertainment',\n",
       "  'entertainment',\n",
       "  'entertainment',\n",
       "  'entertainment',\n",
       "  'entertainment',\n",
       "  'entertainment']}"
      ]
     },
     "execution_count": 161,
     "metadata": {},
     "output_type": "execute_result"
    }
   ],
   "source": [
    "#news articles\n",
    "news = wr.get_news_articles()\n",
    "news"
   ]
  },
  {
   "cell_type": "code",
   "execution_count": 165,
   "id": "45290907-d2c2-452a-bdfc-9b50f642a666",
   "metadata": {},
   "outputs": [
    {
     "data": {
      "text/html": [
       "<div>\n",
       "<style scoped>\n",
       "    .dataframe tbody tr th:only-of-type {\n",
       "        vertical-align: middle;\n",
       "    }\n",
       "\n",
       "    .dataframe tbody tr th {\n",
       "        vertical-align: top;\n",
       "    }\n",
       "\n",
       "    .dataframe thead th {\n",
       "        text-align: right;\n",
       "    }\n",
       "</style>\n",
       "<table border=\"1\" class=\"dataframe\">\n",
       "  <thead>\n",
       "    <tr style=\"text-align: right;\">\n",
       "      <th></th>\n",
       "      <th>title</th>\n",
       "      <th>content</th>\n",
       "      <th>category</th>\n",
       "    </tr>\n",
       "  </thead>\n",
       "  <tbody>\n",
       "    <tr>\n",
       "      <th>0</th>\n",
       "      <td>Was never interested in being LoP, give me par...</td>\n",
       "      <td>NCP leader Ajit Pawar has asked the party to r...</td>\n",
       "      <td>business</td>\n",
       "    </tr>\n",
       "  </tbody>\n",
       "</table>\n",
       "</div>"
      ],
      "text/plain": [
       "                                               title  \\\n",
       "0  Was never interested in being LoP, give me par...   \n",
       "\n",
       "                                             content  category  \n",
       "0  NCP leader Ajit Pawar has asked the party to r...  business  "
      ]
     },
     "execution_count": 165,
     "metadata": {},
     "output_type": "execute_result"
    }
   ],
   "source": [
    "news_df = pd.DataFrame(news)\n",
    "news_df.head(1)"
   ]
  },
  {
   "cell_type": "markdown",
   "id": "7253527b-97c9-47ee-8c45-e26a57b6e091",
   "metadata": {},
   "source": [
    "## 1. Define a function named basic_clean. It should take in a string and apply some basic text cleaning to it:\n",
    "\n",
    "* Lowercase everything\n",
    "* Normalize unicode characters\n",
    "* Replace anything that is not a letter, number, whitespace or a single quote."
   ]
  },
  {
   "cell_type": "code",
   "execution_count": 73,
   "id": "f6389430-5b46-41c6-ba45-c2c49cf4f113",
   "metadata": {},
   "outputs": [],
   "source": [
    "#create lowercase function\n",
    "def lower_everything(string):\n",
    "    return string.str.lower()"
   ]
  },
  {
   "cell_type": "code",
   "execution_count": 74,
   "id": "8b75e530-7358-4d5f-bb7c-9a99ef07cd30",
   "metadata": {},
   "outputs": [
    {
     "data": {
      "text/html": [
       "<div>\n",
       "<style scoped>\n",
       "    .dataframe tbody tr th:only-of-type {\n",
       "        vertical-align: middle;\n",
       "    }\n",
       "\n",
       "    .dataframe tbody tr th {\n",
       "        vertical-align: top;\n",
       "    }\n",
       "\n",
       "    .dataframe thead th {\n",
       "        text-align: right;\n",
       "    }\n",
       "</style>\n",
       "<table border=\"1\" class=\"dataframe\">\n",
       "  <thead>\n",
       "    <tr style=\"text-align: right;\">\n",
       "      <th></th>\n",
       "      <th>title</th>\n",
       "      <th>link</th>\n",
       "      <th>date_published</th>\n",
       "      <th>content</th>\n",
       "    </tr>\n",
       "  </thead>\n",
       "  <tbody>\n",
       "    <tr>\n",
       "      <th>0</th>\n",
       "      <td>spotlight on apida voices: celebrating heritag...</td>\n",
       "      <td>https://codeup.com/featured/apida-heritage-month/</td>\n",
       "      <td>may 24, 2023</td>\n",
       "      <td>may is traditionally known as asian american ...</td>\n",
       "    </tr>\n",
       "  </tbody>\n",
       "</table>\n",
       "</div>"
      ],
      "text/plain": [
       "                                               title  \\\n",
       "0  spotlight on apida voices: celebrating heritag...   \n",
       "\n",
       "                                                link date_published  \\\n",
       "0  https://codeup.com/featured/apida-heritage-month/   may 24, 2023   \n",
       "\n",
       "                                             content  \n",
       "0   may is traditionally known as asian american ...  "
      ]
     },
     "execution_count": 74,
     "metadata": {},
     "output_type": "execute_result"
    }
   ],
   "source": [
    "bdf_lower = bdf.apply(lower_everything)\n",
    "bdf_lower.head(1)"
   ]
  },
  {
   "cell_type": "code",
   "execution_count": 140,
   "id": "02565554-5ea1-459b-8760-e400cc8bf250",
   "metadata": {},
   "outputs": [],
   "source": [
    "subject = \"paul e≈√å∆ª\\\n",
    "rdos and george polys were 1293 influential hungarian mathematicians written as erdos or erdos \\\n",
    "either by mistake or out of typographical ººœ¡ necessity!\""
   ]
  },
  {
   "cell_type": "code",
   "execution_count": 141,
   "id": "3db7cf2c-beec-4eab-8e4d-fe30276f9efd",
   "metadata": {},
   "outputs": [],
   "source": [
    "def normalize_everything(string):\n",
    "    string = unicodedata.normalize('NFKD', string).encode('ascii','ignore').decode('utf-8')\n",
    "    return string"
   ]
  },
  {
   "cell_type": "code",
   "execution_count": 142,
   "id": "d3db7c9f-e7e7-41b1-be80-b99a9b7147f2",
   "metadata": {},
   "outputs": [
    {
     "data": {
      "text/plain": [
       "'paul eaardos and george polys were 1293 influential hungarian mathematicians written as erdos or erdos either by mistake or out of typographical oo necessity!'"
      ]
     },
     "execution_count": 142,
     "metadata": {},
     "output_type": "execute_result"
    }
   ],
   "source": [
    "normalize_everything(subject)"
   ]
  },
  {
   "cell_type": "code",
   "execution_count": 143,
   "id": "959ff265-19b6-4c74-9264-ad5d8c4e9496",
   "metadata": {},
   "outputs": [],
   "source": [
    "#create removal of specials function\n",
    "def specials_removed(string):\n",
    "    string = re.sub(r'[^a-z0-9\\'\\s]', '', string)\n",
    "    return string"
   ]
  },
  {
   "cell_type": "code",
   "execution_count": 144,
   "id": "d0343950-9e4f-4f3c-8f26-2f7f0fa12231",
   "metadata": {},
   "outputs": [
    {
     "data": {
      "text/plain": [
       "'paul erdos and george polys were 1293 influential hungarian mathematicians written as erdos or erdos either by mistake or out of typographical  necessity'"
      ]
     },
     "execution_count": 144,
     "metadata": {},
     "output_type": "execute_result"
    }
   ],
   "source": [
    "specials_removed(subject)"
   ]
  },
  {
   "cell_type": "code",
   "execution_count": 169,
   "id": "dd5af8ec-55bc-45b8-ab35-55da3a3139a5",
   "metadata": {},
   "outputs": [],
   "source": [
    "def basic_clean(string):\n",
    "    string = string.lower()\n",
    "    string = unicodedata.normalize('NFKD', string).encode('ascii','ignore').decode('utf-8')\n",
    "    string = re.sub(r'[^a-z0-9\\'\\s]', '', string)\n",
    "\n",
    "    return string"
   ]
  },
  {
   "cell_type": "code",
   "execution_count": 170,
   "id": "01e302e2-11cf-4b5e-b9ba-8d34b1d4a8ed",
   "metadata": {},
   "outputs": [
    {
     "data": {
      "text/plain": [
       "'paul eaardos and george polys were 1293 influential hungarian mathematicians written as erdos or erdos either by mistake or out of typographical oo necessity'"
      ]
     },
     "execution_count": 170,
     "metadata": {},
     "output_type": "execute_result"
    }
   ],
   "source": [
    "basic_clean(subject)"
   ]
  },
  {
   "cell_type": "markdown",
   "id": "2049564b-4ed8-4f0c-b8b6-6d4af43368c0",
   "metadata": {},
   "source": [
    "### Tokenize"
   ]
  },
  {
   "cell_type": "code",
   "execution_count": 173,
   "id": "6413f903-114b-4e74-a24d-52e2a136ae20",
   "metadata": {},
   "outputs": [],
   "source": [
    "def token_it_up(string):\n",
    "    tokenize = nltk.tokenize.ToktokTokenizer()\n",
    "    string = tokenize.tokenize(string, return_str=True)\n",
    "    return string"
   ]
  },
  {
   "cell_type": "code",
   "execution_count": 174,
   "id": "b6c53867-3bf5-4d95-8f48-587d0aee45d9",
   "metadata": {
    "tags": []
   },
   "outputs": [
    {
     "data": {
      "text/plain": [
       "'paul e≈√å∆ªrdos and george polys were 1293 influential hungarian mathematicians written as erdos or erdos either by mistake or out of typographical ººœ ¡ necessity !'"
      ]
     },
     "execution_count": 174,
     "metadata": {},
     "output_type": "execute_result"
    }
   ],
   "source": [
    "token_it_up(subject)"
   ]
  },
  {
   "cell_type": "markdown",
   "id": "af3fec2e-6668-46c9-81f5-033b20a31810",
   "metadata": {},
   "source": [
    "### Stemmer"
   ]
  },
  {
   "cell_type": "code",
   "execution_count": 179,
   "id": "82fe9536-62dc-4375-b7d2-ed7b5c4a781e",
   "metadata": {},
   "outputs": [],
   "source": [
    "def stemmer(string):\n",
    "    ps = nltk.porter.PorterStemmer()\n",
    "    stems = [ps.stem(word) for word in string.split()]\n",
    "    string = ' '.join(stems)\n",
    "    return string"
   ]
  },
  {
   "cell_type": "code",
   "execution_count": 180,
   "id": "1bdbb6f2-2240-4774-b623-2f64d4eeda83",
   "metadata": {
    "tags": []
   },
   "outputs": [
    {
     "data": {
      "text/plain": [
       "'paul e≈√å∆ªrdo and georg poli were 1293 influenti hungarian mathematician written as erdo or erdo either by mistak or out of typograph ººœ¡ necessity!'"
      ]
     },
     "execution_count": 180,
     "metadata": {},
     "output_type": "execute_result"
    }
   ],
   "source": [
    "stemmer(subject)"
   ]
  },
  {
   "cell_type": "markdown",
   "id": "8b934324-774e-49e6-b56f-44ef522007e9",
   "metadata": {},
   "source": [
    "### Lemmatizer"
   ]
  },
  {
   "cell_type": "code",
   "execution_count": 181,
   "id": "e0d39167-ffcf-41ae-839a-e8bafc77c599",
   "metadata": {},
   "outputs": [],
   "source": [
    "def lemmad(string):\n",
    "    wnl = nltk.stem.WordNetLemmatizer()\n",
    "    string = [wnl.lemmatize(word) for word in string.split()]\n",
    "    string = ' '.join(string)\n",
    "    return string"
   ]
  },
  {
   "cell_type": "code",
   "execution_count": 182,
   "id": "77d72bf5-67d3-4110-b7cc-f3c68a46d298",
   "metadata": {
    "tags": []
   },
   "outputs": [
    {
     "data": {
      "text/plain": [
       "'paul e≈√å∆ªrdos and george polys were 1293 influential hungarian mathematician written a erdos or erdos either by mistake or out of typographical ººœ¡ necessity!'"
      ]
     },
     "execution_count": 182,
     "metadata": {},
     "output_type": "execute_result"
    }
   ],
   "source": [
    "lemmad(subject)"
   ]
  },
  {
   "cell_type": "markdown",
   "id": "8b97e22f-ac30-4cec-b494-cab0d3b60d74",
   "metadata": {},
   "source": [
    "### Stopwords"
   ]
  },
  {
   "cell_type": "code",
   "execution_count": 183,
   "id": "3110e37c-4430-4b99-8257-eac00c60ab13",
   "metadata": {},
   "outputs": [],
   "source": [
    "def remove_stopwords(string, extra_words=[], exclude_words=[]):\n",
    "    sls = stopwords.words('english')\n",
    "    \n",
    "    sls = set(sls) - set(exclude_words)\n",
    "    sls = sls.union(set(extra_words))\n",
    "    \n",
    "    words = string.split()\n",
    "    filtered = [word for word in words if word not in sls]\n",
    "    string = ' '.join(filtered)\n",
    "    return string"
   ]
  },
  {
   "cell_type": "code",
   "execution_count": 184,
   "id": "74ced671-c999-4f12-b4a3-773e6a072e73",
   "metadata": {},
   "outputs": [
    {
     "data": {
      "text/plain": [
       "'paul e≈√å∆ªrdos george polys 1293 influential hungarian mathematicians written erdos erdos either mistake typographical ººœ¡ necessity!'"
      ]
     },
     "execution_count": 184,
     "metadata": {},
     "output_type": "execute_result"
    }
   ],
   "source": [
    "remove_stopwords(subject)"
   ]
  },
  {
   "cell_type": "markdown",
   "id": "a5d76fa1-5c24-4395-898a-055f0dcea01b",
   "metadata": {},
   "source": [
    "### Create DFs"
   ]
  },
  {
   "cell_type": "markdown",
   "id": "f008286f-82b0-43f4-a46d-4cd964f20484",
   "metadata": {},
   "source": [
    "* title to hold the title\n",
    "* original to hold the original article/post content\n",
    "* clean to hold the normalized and tokenized original with the stopwords removed.\n",
    "* stemmed to hold the stemmed version of the cleaned data.\n",
    "* lemmatized to hold the lemmatized version of the cleaned data."
   ]
  },
  {
   "cell_type": "code",
   "execution_count": 160,
   "id": "d9b320df-9fd1-4cbe-97fb-440a3feea44b",
   "metadata": {},
   "outputs": [
    {
     "data": {
      "text/html": [
       "<div>\n",
       "<style scoped>\n",
       "    .dataframe tbody tr th:only-of-type {\n",
       "        vertical-align: middle;\n",
       "    }\n",
       "\n",
       "    .dataframe tbody tr th {\n",
       "        vertical-align: top;\n",
       "    }\n",
       "\n",
       "    .dataframe thead th {\n",
       "        text-align: right;\n",
       "    }\n",
       "</style>\n",
       "<table border=\"1\" class=\"dataframe\">\n",
       "  <thead>\n",
       "    <tr style=\"text-align: right;\">\n",
       "      <th></th>\n",
       "      <th>title</th>\n",
       "      <th>link</th>\n",
       "      <th>date_published</th>\n",
       "      <th>content</th>\n",
       "    </tr>\n",
       "  </thead>\n",
       "  <tbody>\n",
       "    <tr>\n",
       "      <th>0</th>\n",
       "      <td>Spotlight on APIDA Voices: Celebrating Heritag...</td>\n",
       "      <td>https://codeup.com/featured/apida-heritage-month/</td>\n",
       "      <td>May 24, 2023</td>\n",
       "      <td>May is traditionally known as Asian American ...</td>\n",
       "    </tr>\n",
       "    <tr>\n",
       "      <th>1</th>\n",
       "      <td>Women in tech: Panelist Spotlight – Magdalena ...</td>\n",
       "      <td>https://codeup.com/featured/women-in-tech-pane...</td>\n",
       "      <td>Mar 28, 2023</td>\n",
       "      <td>Women in tech: Panelist Spotlight – Magdalena...</td>\n",
       "    </tr>\n",
       "    <tr>\n",
       "      <th>2</th>\n",
       "      <td>Women in tech: Panelist Spotlight – Rachel Rob...</td>\n",
       "      <td>https://codeup.com/featured/women-in-tech-rach...</td>\n",
       "      <td>Mar 20, 2023</td>\n",
       "      <td>Women in tech: Panelist Spotlight – Rachel Ro...</td>\n",
       "    </tr>\n",
       "    <tr>\n",
       "      <th>3</th>\n",
       "      <td>Women in Tech: Panelist Spotlight – Sarah Mellor</td>\n",
       "      <td>https://codeup.com/codeup-news/women-in-tech-p...</td>\n",
       "      <td>Mar 13, 2023</td>\n",
       "      <td>Women in tech: Panelist Spotlight – Sarah Mel...</td>\n",
       "    </tr>\n",
       "    <tr>\n",
       "      <th>4</th>\n",
       "      <td>Women in Tech: Panelist Spotlight – Madeleine ...</td>\n",
       "      <td>https://codeup.com/events/women-in-tech-madele...</td>\n",
       "      <td>Mar 6, 2023</td>\n",
       "      <td>Women in tech: Panelist Spotlight – Madeleine...</td>\n",
       "    </tr>\n",
       "    <tr>\n",
       "      <th>5</th>\n",
       "      <td>Black Excellence in Tech: Panelist Spotlight –...</td>\n",
       "      <td>https://codeup.com/codeup-news/panelist-spotli...</td>\n",
       "      <td>Feb 16, 2023</td>\n",
       "      <td>Black excellence in tech: Panelist Spotlight ...</td>\n",
       "    </tr>\n",
       "  </tbody>\n",
       "</table>\n",
       "</div>"
      ],
      "text/plain": [
       "                                               title  \\\n",
       "0  Spotlight on APIDA Voices: Celebrating Heritag...   \n",
       "1  Women in tech: Panelist Spotlight – Magdalena ...   \n",
       "2  Women in tech: Panelist Spotlight – Rachel Rob...   \n",
       "3   Women in Tech: Panelist Spotlight – Sarah Mellor   \n",
       "4  Women in Tech: Panelist Spotlight – Madeleine ...   \n",
       "5  Black Excellence in Tech: Panelist Spotlight –...   \n",
       "\n",
       "                                                link date_published  \\\n",
       "0  https://codeup.com/featured/apida-heritage-month/   May 24, 2023   \n",
       "1  https://codeup.com/featured/women-in-tech-pane...   Mar 28, 2023   \n",
       "2  https://codeup.com/featured/women-in-tech-rach...   Mar 20, 2023   \n",
       "3  https://codeup.com/codeup-news/women-in-tech-p...   Mar 13, 2023   \n",
       "4  https://codeup.com/events/women-in-tech-madele...    Mar 6, 2023   \n",
       "5  https://codeup.com/codeup-news/panelist-spotli...   Feb 16, 2023   \n",
       "\n",
       "                                             content  \n",
       "0   May is traditionally known as Asian American ...  \n",
       "1   Women in tech: Panelist Spotlight – Magdalena...  \n",
       "2   Women in tech: Panelist Spotlight – Rachel Ro...  \n",
       "3   Women in tech: Panelist Spotlight – Sarah Mel...  \n",
       "4   Women in tech: Panelist Spotlight – Madeleine...  \n",
       "5   Black excellence in tech: Panelist Spotlight ...  "
      ]
     },
     "execution_count": 160,
     "metadata": {},
     "output_type": "execute_result"
    }
   ],
   "source": [
    "codeup_df = bdf\n",
    "codeup_df"
   ]
  },
  {
   "cell_type": "code",
   "execution_count": 168,
   "id": "f44bad71-613d-482d-9f32-093e1a25e19f",
   "metadata": {},
   "outputs": [
    {
     "data": {
      "text/html": [
       "<div>\n",
       "<style scoped>\n",
       "    .dataframe tbody tr th:only-of-type {\n",
       "        vertical-align: middle;\n",
       "    }\n",
       "\n",
       "    .dataframe tbody tr th {\n",
       "        vertical-align: top;\n",
       "    }\n",
       "\n",
       "    .dataframe thead th {\n",
       "        text-align: right;\n",
       "    }\n",
       "</style>\n",
       "<table border=\"1\" class=\"dataframe\">\n",
       "  <thead>\n",
       "    <tr style=\"text-align: right;\">\n",
       "      <th></th>\n",
       "      <th>title</th>\n",
       "      <th>content</th>\n",
       "      <th>category</th>\n",
       "    </tr>\n",
       "  </thead>\n",
       "  <tbody>\n",
       "    <tr>\n",
       "      <th>0</th>\n",
       "      <td>Was never interested in being LoP, give me par...</td>\n",
       "      <td>NCP leader Ajit Pawar has asked the party to r...</td>\n",
       "      <td>business</td>\n",
       "    </tr>\n",
       "    <tr>\n",
       "      <th>1</th>\n",
       "      <td>2 transgenders killed with stones &amp; knives in ...</td>\n",
       "      <td>Two transgenders aged between 25 and 30 died a...</td>\n",
       "      <td>business</td>\n",
       "    </tr>\n",
       "    <tr>\n",
       "      <th>2</th>\n",
       "      <td>I declare less than actual area while declari...</td>\n",
       "      <td>Karnataka Deputy CM DK Shivakumar while talkin...</td>\n",
       "      <td>business</td>\n",
       "    </tr>\n",
       "    <tr>\n",
       "      <th>3</th>\n",
       "      <td>Experience hassle-free home interiors: HomeLane</td>\n",
       "      <td>HomeLane invites you to discover the world of ...</td>\n",
       "      <td>business</td>\n",
       "    </tr>\n",
       "    <tr>\n",
       "      <th>4</th>\n",
       "      <td>Asit Modi would pinch my cheeks, say inappropr...</td>\n",
       "      <td>The details of FIR filed against 'Taarak Mehta...</td>\n",
       "      <td>business</td>\n",
       "    </tr>\n",
       "  </tbody>\n",
       "</table>\n",
       "</div>"
      ],
      "text/plain": [
       "                                               title  \\\n",
       "0  Was never interested in being LoP, give me par...   \n",
       "1  2 transgenders killed with stones & knives in ...   \n",
       "2   I declare less than actual area while declari...   \n",
       "3    Experience hassle-free home interiors: HomeLane   \n",
       "4  Asit Modi would pinch my cheeks, say inappropr...   \n",
       "\n",
       "                                             content  category  \n",
       "0  NCP leader Ajit Pawar has asked the party to r...  business  \n",
       "1  Two transgenders aged between 25 and 30 died a...  business  \n",
       "2  Karnataka Deputy CM DK Shivakumar while talkin...  business  \n",
       "3  HomeLane invites you to discover the world of ...  business  \n",
       "4  The details of FIR filed against 'Taarak Mehta...  business  "
      ]
     },
     "execution_count": 168,
     "metadata": {},
     "output_type": "execute_result"
    }
   ],
   "source": [
    "news_df.head(5)"
   ]
  },
  {
   "cell_type": "code",
   "execution_count": null,
   "id": "49887e12-8a79-4d86-89e4-16341a36ca16",
   "metadata": {},
   "outputs": [],
   "source": [
    "news_df = news_df.rename(columns={'content':'original'}).drop(columns='category')"
   ]
  },
  {
   "cell_type": "code",
   "execution_count": 187,
   "id": "77b60215-76cc-456d-92a0-aef841533f22",
   "metadata": {},
   "outputs": [
    {
     "data": {
      "text/html": [
       "<div>\n",
       "<style scoped>\n",
       "    .dataframe tbody tr th:only-of-type {\n",
       "        vertical-align: middle;\n",
       "    }\n",
       "\n",
       "    .dataframe tbody tr th {\n",
       "        vertical-align: top;\n",
       "    }\n",
       "\n",
       "    .dataframe thead th {\n",
       "        text-align: right;\n",
       "    }\n",
       "</style>\n",
       "<table border=\"1\" class=\"dataframe\">\n",
       "  <thead>\n",
       "    <tr style=\"text-align: right;\">\n",
       "      <th></th>\n",
       "      <th>title</th>\n",
       "      <th>original</th>\n",
       "    </tr>\n",
       "  </thead>\n",
       "  <tbody>\n",
       "    <tr>\n",
       "      <th>0</th>\n",
       "      <td>Was never interested in being LoP, give me par...</td>\n",
       "      <td>NCP leader Ajit Pawar has asked the party to r...</td>\n",
       "    </tr>\n",
       "    <tr>\n",
       "      <th>1</th>\n",
       "      <td>2 transgenders killed with stones &amp; knives in ...</td>\n",
       "      <td>Two transgenders aged between 25 and 30 died a...</td>\n",
       "    </tr>\n",
       "    <tr>\n",
       "      <th>2</th>\n",
       "      <td>I declare less than actual area while declari...</td>\n",
       "      <td>Karnataka Deputy CM DK Shivakumar while talkin...</td>\n",
       "    </tr>\n",
       "  </tbody>\n",
       "</table>\n",
       "</div>"
      ],
      "text/plain": [
       "                                               title  \\\n",
       "0  Was never interested in being LoP, give me par...   \n",
       "1  2 transgenders killed with stones & knives in ...   \n",
       "2   I declare less than actual area while declari...   \n",
       "\n",
       "                                            original  \n",
       "0  NCP leader Ajit Pawar has asked the party to r...  \n",
       "1  Two transgenders aged between 25 and 30 died a...  \n",
       "2  Karnataka Deputy CM DK Shivakumar while talkin...  "
      ]
     },
     "execution_count": 187,
     "metadata": {},
     "output_type": "execute_result"
    }
   ],
   "source": [
    "news_df.head(3)"
   ]
  },
  {
   "cell_type": "code",
   "execution_count": 190,
   "id": "a9eb3da4-03e1-4c7a-b70f-3acc4b2d9c2d",
   "metadata": {},
   "outputs": [],
   "source": [
    "news_df['clean'] = news_df.original.apply(basic_clean).apply(token_it_up).apply(remove_stopwords)"
   ]
  },
  {
   "cell_type": "code",
   "execution_count": 195,
   "id": "90772404-8a82-4996-b268-21277073cfb1",
   "metadata": {},
   "outputs": [],
   "source": [
    "news_df['stem'] = news_df.clean.apply(stemmer)\n",
    "news_df['lemma'] = news_df.clean.apply(lemmad)"
   ]
  },
  {
   "cell_type": "code",
   "execution_count": 196,
   "id": "2fe9eb97-5d0f-4f34-a2d2-f9a5755b94a6",
   "metadata": {},
   "outputs": [
    {
     "data": {
      "text/html": [
       "<div>\n",
       "<style scoped>\n",
       "    .dataframe tbody tr th:only-of-type {\n",
       "        vertical-align: middle;\n",
       "    }\n",
       "\n",
       "    .dataframe tbody tr th {\n",
       "        vertical-align: top;\n",
       "    }\n",
       "\n",
       "    .dataframe thead th {\n",
       "        text-align: right;\n",
       "    }\n",
       "</style>\n",
       "<table border=\"1\" class=\"dataframe\">\n",
       "  <thead>\n",
       "    <tr style=\"text-align: right;\">\n",
       "      <th></th>\n",
       "      <th>title</th>\n",
       "      <th>original</th>\n",
       "      <th>clean</th>\n",
       "      <th>stem</th>\n",
       "      <th>lemma</th>\n",
       "    </tr>\n",
       "  </thead>\n",
       "  <tbody>\n",
       "    <tr>\n",
       "      <th>0</th>\n",
       "      <td>Was never interested in being LoP, give me par...</td>\n",
       "      <td>NCP leader Ajit Pawar has asked the party to r...</td>\n",
       "      <td>ncp leader ajit pawar asked party relieve resp...</td>\n",
       "      <td>ncp leader ajit pawar ask parti reliev respons...</td>\n",
       "      <td>ncp leader ajit pawar asked party relieve resp...</td>\n",
       "    </tr>\n",
       "  </tbody>\n",
       "</table>\n",
       "</div>"
      ],
      "text/plain": [
       "                                               title  \\\n",
       "0  Was never interested in being LoP, give me par...   \n",
       "\n",
       "                                            original  \\\n",
       "0  NCP leader Ajit Pawar has asked the party to r...   \n",
       "\n",
       "                                               clean  \\\n",
       "0  ncp leader ajit pawar asked party relieve resp...   \n",
       "\n",
       "                                                stem  \\\n",
       "0  ncp leader ajit pawar ask parti reliev respons...   \n",
       "\n",
       "                                               lemma  \n",
       "0  ncp leader ajit pawar asked party relieve resp...  "
      ]
     },
     "execution_count": 196,
     "metadata": {},
     "output_type": "execute_result"
    }
   ],
   "source": [
    "news_df.head(1)"
   ]
  },
  {
   "cell_type": "code",
   "execution_count": 197,
   "id": "d2214831-76e6-431f-bc5a-66a8f26e6cee",
   "metadata": {},
   "outputs": [],
   "source": [
    "def clean_df(df, exclude_words=[], extra_words=[]):\n",
    "    '''\n",
    "    send in df with columns: title and original,\n",
    "    returns df with original, clean, stemmed, and lemmatized data\n",
    "    '''\n",
    "    df['clean'] = df.original.apply(basic_clean).apply(token_it_up).apply(remove_stopwords)\n",
    "    df['stem'] = df.clean.apply(stemmer)\n",
    "    df['lemma'] = df.clean.apply(lemmad)\n",
    "    \n",
    "    return df"
   ]
  },
  {
   "cell_type": "code",
   "execution_count": 203,
   "id": "d279bc49-3beb-4c9e-8676-404a15ef725a",
   "metadata": {},
   "outputs": [],
   "source": [
    "codeup_df = codeup_df.rename(columns={'content':'original'}).drop(columns={'link','date_published'})"
   ]
  },
  {
   "cell_type": "code",
   "execution_count": 204,
   "id": "3250ee7c-e1ef-412d-8709-d49e8d4dd861",
   "metadata": {},
   "outputs": [
    {
     "data": {
      "text/html": [
       "<div>\n",
       "<style scoped>\n",
       "    .dataframe tbody tr th:only-of-type {\n",
       "        vertical-align: middle;\n",
       "    }\n",
       "\n",
       "    .dataframe tbody tr th {\n",
       "        vertical-align: top;\n",
       "    }\n",
       "\n",
       "    .dataframe thead th {\n",
       "        text-align: right;\n",
       "    }\n",
       "</style>\n",
       "<table border=\"1\" class=\"dataframe\">\n",
       "  <thead>\n",
       "    <tr style=\"text-align: right;\">\n",
       "      <th></th>\n",
       "      <th>title</th>\n",
       "      <th>original</th>\n",
       "      <th>clean</th>\n",
       "      <th>stem</th>\n",
       "      <th>lemma</th>\n",
       "    </tr>\n",
       "  </thead>\n",
       "  <tbody>\n",
       "    <tr>\n",
       "      <th>0</th>\n",
       "      <td>Spotlight on APIDA Voices: Celebrating Heritag...</td>\n",
       "      <td>May is traditionally known as Asian American ...</td>\n",
       "      <td>may traditionally known asian american pacific...</td>\n",
       "      <td>may tradit known asian american pacif island a...</td>\n",
       "      <td>may traditionally known asian american pacific...</td>\n",
       "    </tr>\n",
       "    <tr>\n",
       "      <th>1</th>\n",
       "      <td>Women in tech: Panelist Spotlight – Magdalena ...</td>\n",
       "      <td>Women in tech: Panelist Spotlight – Magdalena...</td>\n",
       "      <td>women tech panelist spotlight magdalena rahn c...</td>\n",
       "      <td>women tech panelist spotlight magdalena rahn c...</td>\n",
       "      <td>woman tech panelist spotlight magdalena rahn c...</td>\n",
       "    </tr>\n",
       "    <tr>\n",
       "      <th>2</th>\n",
       "      <td>Women in tech: Panelist Spotlight – Rachel Rob...</td>\n",
       "      <td>Women in tech: Panelist Spotlight – Rachel Ro...</td>\n",
       "      <td>women tech panelist spotlight rachel robbinsma...</td>\n",
       "      <td>women tech panelist spotlight rachel robbinsma...</td>\n",
       "      <td>woman tech panelist spotlight rachel robbinsma...</td>\n",
       "    </tr>\n",
       "    <tr>\n",
       "      <th>3</th>\n",
       "      <td>Women in Tech: Panelist Spotlight – Sarah Mellor</td>\n",
       "      <td>Women in tech: Panelist Spotlight – Sarah Mel...</td>\n",
       "      <td>women tech panelist spotlight sarah mellor cod...</td>\n",
       "      <td>women tech panelist spotlight sarah mellor cod...</td>\n",
       "      <td>woman tech panelist spotlight sarah mellor cod...</td>\n",
       "    </tr>\n",
       "    <tr>\n",
       "      <th>4</th>\n",
       "      <td>Women in Tech: Panelist Spotlight – Madeleine ...</td>\n",
       "      <td>Women in tech: Panelist Spotlight – Madeleine...</td>\n",
       "      <td>women tech panelist spotlight madeleine capper...</td>\n",
       "      <td>women tech panelist spotlight madelein capper ...</td>\n",
       "      <td>woman tech panelist spotlight madeleine capper...</td>\n",
       "    </tr>\n",
       "    <tr>\n",
       "      <th>5</th>\n",
       "      <td>Black Excellence in Tech: Panelist Spotlight –...</td>\n",
       "      <td>Black excellence in tech: Panelist Spotlight ...</td>\n",
       "      <td>black excellence tech panelist spotlight wilma...</td>\n",
       "      <td>black excel tech panelist spotlight wilmari de...</td>\n",
       "      <td>black excellence tech panelist spotlight wilma...</td>\n",
       "    </tr>\n",
       "  </tbody>\n",
       "</table>\n",
       "</div>"
      ],
      "text/plain": [
       "                                               title  \\\n",
       "0  Spotlight on APIDA Voices: Celebrating Heritag...   \n",
       "1  Women in tech: Panelist Spotlight – Magdalena ...   \n",
       "2  Women in tech: Panelist Spotlight – Rachel Rob...   \n",
       "3   Women in Tech: Panelist Spotlight – Sarah Mellor   \n",
       "4  Women in Tech: Panelist Spotlight – Madeleine ...   \n",
       "5  Black Excellence in Tech: Panelist Spotlight –...   \n",
       "\n",
       "                                            original  \\\n",
       "0   May is traditionally known as Asian American ...   \n",
       "1   Women in tech: Panelist Spotlight – Magdalena...   \n",
       "2   Women in tech: Panelist Spotlight – Rachel Ro...   \n",
       "3   Women in tech: Panelist Spotlight – Sarah Mel...   \n",
       "4   Women in tech: Panelist Spotlight – Madeleine...   \n",
       "5   Black excellence in tech: Panelist Spotlight ...   \n",
       "\n",
       "                                               clean  \\\n",
       "0  may traditionally known asian american pacific...   \n",
       "1  women tech panelist spotlight magdalena rahn c...   \n",
       "2  women tech panelist spotlight rachel robbinsma...   \n",
       "3  women tech panelist spotlight sarah mellor cod...   \n",
       "4  women tech panelist spotlight madeleine capper...   \n",
       "5  black excellence tech panelist spotlight wilma...   \n",
       "\n",
       "                                                stem  \\\n",
       "0  may tradit known asian american pacif island a...   \n",
       "1  women tech panelist spotlight magdalena rahn c...   \n",
       "2  women tech panelist spotlight rachel robbinsma...   \n",
       "3  women tech panelist spotlight sarah mellor cod...   \n",
       "4  women tech panelist spotlight madelein capper ...   \n",
       "5  black excel tech panelist spotlight wilmari de...   \n",
       "\n",
       "                                               lemma  \n",
       "0  may traditionally known asian american pacific...  \n",
       "1  woman tech panelist spotlight magdalena rahn c...  \n",
       "2  woman tech panelist spotlight rachel robbinsma...  \n",
       "3  woman tech panelist spotlight sarah mellor cod...  \n",
       "4  woman tech panelist spotlight madeleine capper...  \n",
       "5  black excellence tech panelist spotlight wilma...  "
      ]
     },
     "execution_count": 204,
     "metadata": {},
     "output_type": "execute_result"
    }
   ],
   "source": [
    "clean_df(codeup_df)"
   ]
  },
  {
   "cell_type": "code",
   "execution_count": 35,
   "id": "47d89d63-d285-4fd7-95eb-f0601456e5d7",
   "metadata": {
    "scrolled": true,
    "tags": []
   },
   "outputs": [],
   "source": [
    "## PARKING LOT FOR CODE CREATED BUT NOT USED - WRONG RABBIT HOLE\n",
    "# #lowercase\n",
    "# articles = [{key: value.lower() for key, value in dictionary.items()} for dictionary in blogs]\n",
    "# articles\n",
    "# #normalize\n",
    "# normalized_list = [{key: unicodedata.normalize('NFKD', value).encode('ascii', 'ignore')\\\n",
    "#         .decode('utf-8') for key, value in dictionary.items()} for dictionary in articles]\n",
    "# normalized_list\n",
    "# #remove special characters\n",
    "# specials_removed = [{key: re.sub(r'[^a-z0-9\\'\\s]', '', value) \\\n",
    "#                      for key, value in dictionary.items()} for dictionary in normalized_list]\n",
    "# specials_removed\n",
    "# #tokenize created\n",
    "# tokenize = nltk.tokenize.ToktokTokenizer()\n",
    "# tokenize\n",
    "# #tokenize used\n",
    "# tokenize_list = [{key: tokenize.tokenize(value, return_str=True) \\\n",
    "#                      for key, value in dictionary.items()} for dictionary in specials_removed]\n",
    "# tokenize_list\n",
    "# #lemmatize created\n",
    "# wnl = nltk.stem.WordNetLemmatizer()\n",
    "# #lemmatize used\n",
    "# lemmas = [{key: [wnl.lemmatize(word) for word in value.split()] \\\n",
    "#                      for key, value in dictionary.items()} for dictionary in tokenize_list]\n",
    "# lemmas\n",
    "# #stopwords created\n",
    "# sls = stopwords.words('english')\n",
    "# sls\n",
    "# #join dicts back together\n",
    "# blogs_lemmad = [{key: ' '.join(value) for key, \\\n",
    "#   value in dictionary.items()} for dictionary in lemmas]\n",
    "# blogs_lemmad\n",
    "# #splitting to apply stopword removal\n",
    "# words = [{key: [word for word in value.split()] for key, \\\n",
    "#   value in dictionary.items()} for dictionary in blogs_lemmad]\n",
    "# words\n",
    "# #filtering stopwords out\n",
    "# filtered = [{key: [word for word in words if word not in sls] for key, \\\n",
    "#   value in dictionary.items()} for dictionary in words]\n",
    "# filtered"
   ]
  }
 ],
 "metadata": {
  "kernelspec": {
   "display_name": "Python 3 (ipykernel)",
   "language": "python",
   "name": "python3"
  },
  "language_info": {
   "codemirror_mode": {
    "name": "ipython",
    "version": 3
   },
   "file_extension": ".py",
   "mimetype": "text/x-python",
   "name": "python",
   "nbconvert_exporter": "python",
   "pygments_lexer": "ipython3",
   "version": "3.9.13"
  }
 },
 "nbformat": 4,
 "nbformat_minor": 5
}
